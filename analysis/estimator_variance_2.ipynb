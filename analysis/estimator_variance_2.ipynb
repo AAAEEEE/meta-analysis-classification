{
 "cells": [
  {
   "cell_type": "code",
   "execution_count": 21,
   "metadata": {
    "nbpresent": {
     "id": "2d828fb6-3364-4b92-a4ca-c7fec2db0af3"
    }
   },
   "outputs": [],
   "source": [
    "import math\n",
    "import numpy as np\n",
    "import matplotlib.pyplot as plt\n",
    "import torch.nn.functional as F\n",
    "import sklearn\n",
    "import torch\n",
    "from sklearn.decomposition import TruncatedSVD\n",
    "from sklearn.linear_model import LogisticRegression, LogisticRegressionCV\n",
    "from scipy.special import softmax\n",
    "from tqdm import tqdm \n",
    "from collections import Counter\n",
    "import warnings\n",
    "from sklearn.exceptions import ConvergenceWarning\n",
    "import matplotlib.pyplot as plt\n",
    "warnings.simplefilter(\"always\", ConvergenceWarning)\n",
    "import pickle"
   ]
  },
  {
   "cell_type": "code",
   "execution_count": 22,
   "metadata": {
    "nbpresent": {
     "id": "40dd33e6-c5dc-42d8-b399-e67898b55390"
    }
   },
   "outputs": [],
   "source": [
    "from maml.datasets.miniimagenet import MiniimagenetMetaDataset, Task\n",
    "from maml.models.gated_conv_net_original import ImpRegConvModel\n",
    "from maml.models.conv_embedding_model import RegConvEmbeddingModel\n",
    "from maml.logistic_regression_utils import logistic_regression_grad_with_respect_to_w, logistic_regression_hessian_pieces_with_respect_to_w, logistic_regression_hessian_with_respect_to_w, logistic_regression_mixed_derivatives_with_respect_to_w_then_to_X\n",
    "from maml.logistic_regression_utils import logistic_regression_mixed_derivatives_with_respect_to_w_then_to_X_left_multiply\n",
    "from maml.algorithm import MetaOptnet, ProtoNet, ImpRMAML_inner_algorithm"
   ]
  },
  {
   "cell_type": "code",
   "execution_count": 27,
   "metadata": {
    "nbpresent": {
     "id": "286351fd-1d64-4f8f-a415-561a5e44b0ab"
    }
   },
   "outputs": [],
   "source": [
    "def sample_indices(array, n_classes):\n",
    "    for c in range(n_classes):\n",
    "        np.argwhere(array==c)\n",
    "def compute_variance(estimators, n_classes):\n",
    "    estimators = torch.cat(estimators, dim=0).numpy()\n",
    "    assert estimators.shape[1] == n_classes\n",
    "    assert len(estimators.shape) == 3\n",
    "    _explained_variance_ratio = []\n",
    "    print(\"final esitimators\", estimators.shape, \"n_classes\", n_classes)\n",
    "    for i in range(n_classes):\n",
    "        est = estimators[:, i, :]\n",
    "        est = est / np.linalg.norm(est, axis=1)[:, None]\n",
    "        est = est - est.mean(0)\n",
    "        svd = TruncatedSVD(n_components=min(100, min(est.shape)), random_state=42)\n",
    "        S = svd.fit(est.T @ est)\n",
    "#         print(f\"class: {i+1} exp. variance: \", S.explained_variance_ratio_)\n",
    "#         print(f\"class: {i+1} svd values : \", S.singular_values_)\n",
    "        _explained_variance_ratio.append(S.explained_variance_ratio_)\n",
    "    return np.stack(_explained_variance_ratio, axis=0)"
   ]
  },
  {
   "cell_type": "code",
   "execution_count": 28,
   "metadata": {},
   "outputs": [],
   "source": [
    "def accuracy(preds, y):\n",
    "    _, preds = torch.max(preds.data, 1)\n",
    "    total = y.size(0)\n",
    "    correct = (preds == y).sum().float()\n",
    "    return (correct / total).item()\n",
    "\n",
    "def get_test_performance(X, y, estimator):\n",
    "    preds = X.detach().cpu() @ estimator.squeeze().T\n",
    "    y = y.detach().cpu()\n",
    "    return accuracy(preds, y)"
   ]
  },
  {
   "cell_type": "code",
   "execution_count": null,
   "metadata": {},
   "outputs": [],
   "source": []
  },
  {
   "cell_type": "code",
   "execution_count": 26,
   "metadata": {
    "nbpresent": {
     "id": "e1a7dcad-71d3-4d1c-8d10-484167794a09"
    }
   },
   "outputs": [],
   "source": [
    "try:\n",
    "    with open('variance_stat.pkl', 'rb') as f:\n",
    "        variance_stat = pickle.load(f)\n",
    "except:\n",
    "    variance_stat = {} "
   ]
  },
  {
   "cell_type": "markdown",
   "metadata": {
    "nbpresent": {
     "id": "52437294-8787-4399-b245-dea2bd2dce76"
    }
   },
   "source": [
    "# SVM 5w5s"
   ]
  },
  {
   "cell_type": "code",
   "execution_count": 31,
   "metadata": {
    "nbpresent": {
     "id": "3390df4d-4d10-4136-be6e-9ae2b2161aee"
    }
   },
   "outputs": [
    {
     "name": "stdout",
     "output_type": "stream",
     "text": [
      "MiniImagenet val\n",
      "add_bias to output features :  False\n"
     ]
    },
    {
     "name": "stderr",
     "output_type": "stream",
     "text": [
      "\r",
      "  0%|          | 0/120 [00:00<?, ?it/s]"
     ]
    },
    {
     "name": "stdout",
     "output_type": "stream",
     "text": [
      "Before Modulation\n",
      "tensor([16.9637, 17.5148, 16.9556, 17.3089, 17.0602, 17.6443, 17.4049, 16.2400,\n",
      "        16.3001, 16.5521, 14.9721, 17.1187, 17.1497, 17.6392, 17.1182, 17.2928,\n",
      "        17.7099, 16.3902, 16.3392, 16.7880, 16.4630, 16.5052, 13.6217, 14.3266,\n",
      "        15.6981], device='cuda:1', grad_fn=<NormBackward1>)\n"
     ]
    },
    {
     "name": "stderr",
     "output_type": "stream",
     "text": [
      "100%|██████████| 120/120 [00:14<00:00,  8.20it/s]\n",
      "100%|██████████| 120/120 [00:13<00:00,  8.80it/s]\n",
      "100%|██████████| 120/120 [00:13<00:00,  8.91it/s]\n",
      "100%|██████████| 120/120 [00:13<00:00,  9.14it/s]\n",
      "100%|██████████| 120/120 [00:13<00:00,  9.10it/s]\n",
      "100%|██████████| 120/120 [00:13<00:00,  9.00it/s]\n",
      "100%|██████████| 120/120 [00:13<00:00,  8.83it/s]\n",
      "100%|██████████| 120/120 [00:13<00:00,  8.80it/s]\n",
      "100%|██████████| 120/120 [00:13<00:00,  8.97it/s]\n",
      "100%|██████████| 120/120 [00:13<00:00,  8.86it/s]\n"
     ]
    },
    {
     "name": "stdout",
     "output_type": "stream",
     "text": [
      "final esitimators (1200, 5, 1600) n_classes 5\n"
     ]
    },
    {
     "name": "stderr",
     "output_type": "stream",
     "text": [
      "100%|██████████| 120/120 [00:13<00:00,  8.88it/s]\n",
      "100%|██████████| 120/120 [00:13<00:00,  8.88it/s]\n",
      "100%|██████████| 120/120 [00:13<00:00,  9.05it/s]\n",
      "100%|██████████| 120/120 [00:13<00:00,  9.01it/s]\n",
      "100%|██████████| 120/120 [00:13<00:00,  8.83it/s]\n",
      "100%|██████████| 120/120 [00:13<00:00,  9.03it/s]\n",
      "100%|██████████| 120/120 [00:13<00:00,  8.71it/s]\n",
      "100%|██████████| 120/120 [00:13<00:00,  9.11it/s]\n",
      "100%|██████████| 120/120 [00:13<00:00,  8.88it/s]\n",
      "100%|██████████| 120/120 [00:13<00:00,  8.87it/s]\n"
     ]
    },
    {
     "name": "stdout",
     "output_type": "stream",
     "text": [
      "final esitimators (1200, 5, 1600) n_classes 5\n"
     ]
    },
    {
     "name": "stderr",
     "output_type": "stream",
     "text": [
      "100%|██████████| 120/120 [00:13<00:00,  8.73it/s]\n",
      "100%|██████████| 120/120 [00:13<00:00,  8.84it/s]\n",
      "100%|██████████| 120/120 [00:13<00:00,  8.95it/s]\n",
      "100%|██████████| 120/120 [00:13<00:00,  8.91it/s]\n",
      "100%|██████████| 120/120 [00:13<00:00,  8.84it/s]\n",
      "100%|██████████| 120/120 [00:13<00:00,  8.74it/s]\n",
      "100%|██████████| 120/120 [00:13<00:00,  8.76it/s]\n",
      "100%|██████████| 120/120 [00:13<00:00,  8.96it/s]\n",
      "100%|██████████| 120/120 [00:13<00:00,  8.87it/s]\n",
      "100%|██████████| 120/120 [00:13<00:00,  9.02it/s]\n"
     ]
    },
    {
     "name": "stdout",
     "output_type": "stream",
     "text": [
      "final esitimators (1200, 5, 1600) n_classes 5\n"
     ]
    },
    {
     "name": "stderr",
     "output_type": "stream",
     "text": [
      "100%|██████████| 120/120 [00:13<00:00,  8.85it/s]\n",
      "100%|██████████| 120/120 [00:13<00:00,  8.85it/s]\n",
      "100%|██████████| 120/120 [00:13<00:00,  8.86it/s]\n",
      "100%|██████████| 120/120 [00:13<00:00,  8.85it/s]\n",
      "100%|██████████| 120/120 [00:13<00:00,  8.86it/s]\n",
      "100%|██████████| 120/120 [00:13<00:00,  8.80it/s]\n",
      "100%|██████████| 120/120 [00:13<00:00,  8.88it/s]\n",
      "100%|██████████| 120/120 [00:13<00:00,  8.82it/s]\n",
      "100%|██████████| 120/120 [00:13<00:00,  9.15it/s]\n",
      "100%|██████████| 120/120 [00:13<00:00,  8.87it/s]\n"
     ]
    },
    {
     "name": "stdout",
     "output_type": "stream",
     "text": [
      "final esitimators (1200, 5, 1600) n_classes 5\n"
     ]
    },
    {
     "name": "stderr",
     "output_type": "stream",
     "text": [
      "100%|██████████| 120/120 [00:13<00:00,  8.72it/s]\n",
      "100%|██████████| 120/120 [00:13<00:00,  8.97it/s]\n",
      "100%|██████████| 120/120 [00:13<00:00,  8.87it/s]\n",
      "100%|██████████| 120/120 [00:13<00:00,  9.11it/s]\n",
      "100%|██████████| 120/120 [00:13<00:00,  8.75it/s]\n",
      "100%|██████████| 120/120 [00:13<00:00,  8.99it/s]\n",
      "100%|██████████| 120/120 [00:13<00:00,  8.98it/s]\n",
      "100%|██████████| 120/120 [00:13<00:00,  8.85it/s]\n",
      "100%|██████████| 120/120 [00:13<00:00,  9.03it/s]\n",
      "100%|██████████| 120/120 [00:13<00:00,  8.75it/s]\n"
     ]
    },
    {
     "name": "stdout",
     "output_type": "stream",
     "text": [
      "final esitimators (1200, 5, 1600) n_classes 5\n"
     ]
    },
    {
     "name": "stderr",
     "output_type": "stream",
     "text": [
      "100%|██████████| 120/120 [00:13<00:00,  8.91it/s]\n",
      "100%|██████████| 120/120 [00:13<00:00,  8.95it/s]\n",
      "100%|██████████| 120/120 [00:13<00:00,  8.82it/s]\n",
      "100%|██████████| 120/120 [00:13<00:00,  8.96it/s]\n",
      "100%|██████████| 120/120 [00:13<00:00,  8.87it/s]\n",
      "100%|██████████| 120/120 [00:13<00:00,  9.02it/s]\n",
      "100%|██████████| 120/120 [00:13<00:00,  9.00it/s]\n",
      "100%|██████████| 120/120 [00:13<00:00,  9.10it/s]\n",
      "100%|██████████| 120/120 [00:13<00:00,  8.73it/s]\n",
      "100%|██████████| 120/120 [00:13<00:00,  8.79it/s]\n"
     ]
    },
    {
     "name": "stdout",
     "output_type": "stream",
     "text": [
      "final esitimators (1200, 5, 1600) n_classes 5\n"
     ]
    },
    {
     "name": "stderr",
     "output_type": "stream",
     "text": [
      "100%|██████████| 120/120 [00:13<00:00,  8.88it/s]\n",
      "100%|██████████| 120/120 [00:13<00:00,  8.85it/s]\n",
      "100%|██████████| 120/120 [00:13<00:00,  8.93it/s]\n",
      "100%|██████████| 120/120 [00:13<00:00,  8.91it/s]\n",
      "100%|██████████| 120/120 [00:13<00:00,  8.80it/s]\n",
      "100%|██████████| 120/120 [00:13<00:00,  9.07it/s]\n",
      "100%|██████████| 120/120 [00:13<00:00,  9.02it/s]\n",
      "100%|██████████| 120/120 [00:13<00:00,  8.95it/s]\n",
      "100%|██████████| 120/120 [00:13<00:00,  8.77it/s]\n",
      "100%|██████████| 120/120 [00:13<00:00,  8.94it/s]\n"
     ]
    },
    {
     "name": "stdout",
     "output_type": "stream",
     "text": [
      "final esitimators (1200, 5, 1600) n_classes 5\n"
     ]
    },
    {
     "name": "stderr",
     "output_type": "stream",
     "text": [
      "100%|██████████| 120/120 [00:13<00:00,  8.85it/s]\n",
      "100%|██████████| 120/120 [00:13<00:00,  8.89it/s]\n",
      "100%|██████████| 120/120 [00:13<00:00,  9.00it/s]\n",
      "100%|██████████| 120/120 [00:13<00:00,  8.85it/s]\n",
      "100%|██████████| 120/120 [00:13<00:00,  8.95it/s]\n",
      "100%|██████████| 120/120 [00:13<00:00,  8.72it/s]\n",
      "100%|██████████| 120/120 [00:13<00:00,  8.70it/s]\n",
      "100%|██████████| 120/120 [00:13<00:00,  9.05it/s]\n",
      "100%|██████████| 120/120 [00:13<00:00,  8.83it/s]\n",
      "100%|██████████| 120/120 [00:13<00:00,  8.79it/s]\n"
     ]
    },
    {
     "name": "stdout",
     "output_type": "stream",
     "text": [
      "final esitimators (1200, 5, 1600) n_classes 5\n"
     ]
    },
    {
     "name": "stderr",
     "output_type": "stream",
     "text": [
      "100%|██████████| 120/120 [00:13<00:00,  9.09it/s]\n",
      "100%|██████████| 120/120 [00:13<00:00,  8.87it/s]\n",
      "100%|██████████| 120/120 [00:13<00:00,  8.71it/s]\n",
      "100%|██████████| 120/120 [00:13<00:00,  8.92it/s]\n",
      "100%|██████████| 120/120 [00:13<00:00,  8.75it/s]\n",
      "100%|██████████| 120/120 [00:13<00:00,  8.77it/s]\n",
      "100%|██████████| 120/120 [00:13<00:00,  8.68it/s]\n",
      "100%|██████████| 120/120 [00:13<00:00,  8.72it/s]\n",
      "100%|██████████| 120/120 [00:13<00:00,  8.92it/s]\n",
      "100%|██████████| 120/120 [00:13<00:00,  8.84it/s]\n"
     ]
    },
    {
     "name": "stdout",
     "output_type": "stream",
     "text": [
      "final esitimators (1200, 5, 1600) n_classes 5\n"
     ]
    },
    {
     "name": "stderr",
     "output_type": "stream",
     "text": [
      "100%|██████████| 120/120 [00:13<00:00,  8.99it/s]\n",
      "100%|██████████| 120/120 [00:13<00:00,  8.84it/s]\n",
      "100%|██████████| 120/120 [00:13<00:00,  8.91it/s]\n",
      "100%|██████████| 120/120 [00:13<00:00,  9.00it/s]\n",
      "100%|██████████| 120/120 [00:13<00:00,  8.93it/s]\n",
      "100%|██████████| 120/120 [00:13<00:00,  8.89it/s]\n",
      "100%|██████████| 120/120 [00:13<00:00,  9.10it/s]\n",
      "100%|██████████| 120/120 [00:13<00:00,  8.94it/s]\n",
      "100%|██████████| 120/120 [00:13<00:00,  8.94it/s]\n",
      "100%|██████████| 120/120 [00:13<00:00,  8.61it/s]\n"
     ]
    },
    {
     "name": "stdout",
     "output_type": "stream",
     "text": [
      "final esitimators (1200, 5, 1600) n_classes 5\n"
     ]
    },
    {
     "data": {
      "image/png": "[encoded data removed]",
      "text/plain": [
       "<Figure size 432x288 with 1 Axes>"
      ]
     },
     "metadata": {
      "needs_background": "light"
     },
     "output_type": "display_data"
    }
   ],
   "source": [
    "exp_name = 'SVM 5w5s'\n",
    "chkpt = './inner_solvers/minim_5w5s_SVM/maml_impregconv_20000.pt'\n",
    "torch.cuda.set_device(1)\n",
    "n_runs = 10\n",
    "n_way=5\n",
    "n_shot=5\n",
    "\n",
    "# dataset\n",
    "dataset = MiniimagenetMetaDataset(\n",
    "    root='data',\n",
    "    img_side_len=84,\n",
    "    num_classes_per_batch=n_way,\n",
    "    num_samples_per_class=600, # num train samples per class\n",
    "    num_total_batches=10,\n",
    "    num_val_samples=0, # num test samples per class\n",
    "    meta_batch_size=1,\n",
    "    split='val', # meta train/val/test\n",
    "    num_workers=4,\n",
    "    device='cuda')\n",
    "num_channels = 64\n",
    "\n",
    "\n",
    "# model \n",
    "model = ImpRegConvModel(\n",
    "        input_channels=dataset.input_size[0],\n",
    "        num_channels=64,\n",
    "        img_side_len=dataset.input_size[1],\n",
    "        verbose=False,\n",
    "        use_group_norm=True,\n",
    "        retain_activation=True,\n",
    "        add_bias=False)\n",
    "state_dict = torch.load(chkpt)\n",
    "model.load_state_dict(state_dict['model'])\n",
    "model.to('cuda')\n",
    "\n",
    "\n",
    "# algorithm\n",
    "algorithm = MetaOptnet(\n",
    "    model=model,\n",
    "    inner_loss_func=torch.nn.CrossEntropyLoss(),\n",
    "    n_way=n_way,\n",
    "    n_shot_train=n_shot,\n",
    "    n_shot_val=n_shot,\n",
    "    device='cuda')\n",
    "\n",
    "\n",
    "# start variance computation\n",
    "explained_variance_ratio = []\n",
    "for train_task_batch, _ in iter(dataset):\n",
    "\n",
    "    train_task = train_task_batch[0]\n",
    "    n_samples = train_task.x.shape[0]\n",
    "    train_task_batch_x = torch.stack([task.x for task in train_task_batch], dim=0)\n",
    "    train_task_batch_y = torch.stack([task.y for task in train_task_batch], dim=0)\n",
    "    n_samples_per_class = n_samples // n_way\n",
    "    n_tasks = (n_samples_per_class // n_shot)\n",
    "    estimators = []\n",
    "        \n",
    "    for _ in range(n_runs):\n",
    "        train_task_batch_x_shuffled = []\n",
    "        for i in range(n_way):\n",
    "            random_indices = np.random.permutation(n_samples_per_class)\n",
    "            train_task_batch_x_shuffled.append(train_task_batch_x[:, random_indices + i*n_samples_per_class])\n",
    "        train_task_batch_x = torch.cat(train_task_batch_x_shuffled, dim=1)\n",
    "        for i in tqdm(range(0, n_tasks)):\n",
    "            indices = np.array(\n",
    "                [[n_samples_per_class*j + n_shot*i + k for k in range(n_shot)] for j in range(n_way)]\n",
    "            ).reshape(-1).tolist()\n",
    "            samples_x = train_task_batch_x[:,indices]\n",
    "            samples_y = train_task_batch_y[:,indices]\n",
    "            assert len(set(samples_y.view(-1).cpu().numpy())) == n_way\n",
    "        #         print(samples_x.shape, samples_y.shape, len(set(samples_y.view(-1))))\n",
    "            estimator = algorithm.inner_loop_adapt(\n",
    "                support=samples_x, \n",
    "                support_labels=samples_y, \n",
    "                query=samples_x,\n",
    "                return_estimator=True\n",
    "            ).detach().cpu()\n",
    "            estimators.append(estimator)\n",
    "    explained_variance_ratio.append(compute_variance(estimators, n_classes=n_way))\n",
    "\n",
    "variance_stat[exp_name] = np.concatenate(explained_variance_ratio, axis=0).mean(0)\n",
    "\n",
    "with open('variance_stat.pkl', 'wb') as f:\n",
    "    pickle.dump(variance_stat, f)\n",
    "    \n",
    "    \n",
    "plt.plot(variance_stat[exp_name])\n",
    "plt.xticks(np.arange(0, variance_stat[exp_name].shape[-1], 50), size=8)\n",
    "plt.title(exp_name)\n",
    "plt.show()"
   ]
  },
  {
   "cell_type": "markdown",
   "metadata": {
    "nbpresent": {
     "id": "6013beaf-ddb0-4bba-9e9c-157ae9d302e9"
    }
   },
   "source": [
    "# SVM 5w1s"
   ]
  },
  {
   "cell_type": "code",
   "execution_count": null,
   "metadata": {
    "nbpresent": {
     "id": "34560772-743f-4a4b-969c-c2d0c7460535"
    },
    "scrolled": false
   },
   "outputs": [],
   "source": [
    "exp_name = 'SVM 5w1s'\n",
    "chkpt = './inner_solvers/minim_5w1s_SVM/maml_impregconv_22000.pt'\n",
    "torch.cuda.set_device(1)\n",
    "n_runs = 2\n",
    "n_way=5\n",
    "n_shot=1\n",
    "\n",
    "# dataset\n",
    "dataset = MiniimagenetMetaDataset(\n",
    "    root='data',\n",
    "    img_side_len=84,\n",
    "    num_classes_per_batch=n_way,\n",
    "    num_samples_per_class=600, # num train samples per class\n",
    "    num_total_batches=10,\n",
    "    num_val_samples=0, # num test samples per class\n",
    "    meta_batch_size=1,\n",
    "    split='val', # meta train/val/test\n",
    "    num_workers=4,\n",
    "    device='cuda')\n",
    "num_channels = 64\n",
    "\n",
    "\n",
    "# model \n",
    "model = ImpRegConvModel(\n",
    "        input_channels=dataset.input_size[0],\n",
    "        output_size=dataset.output_size,\n",
    "        num_channels=64,\n",
    "        img_side_len=dataset.input_size[1],\n",
    "        use_max_pool=False, # currently not used\n",
    "        verbose=False,\n",
    "        use_group_norm=True,\n",
    "        retain_activation=True,\n",
    "        add_bias=False)\n",
    "state_dict = torch.load(chkpt)\n",
    "model.load_state_dict(state_dict['model'])\n",
    "model.to('cuda')\n",
    "\n",
    "\n",
    "# algorithm\n",
    "algorithm = MetaOptnet(\n",
    "    model=model,\n",
    "    inner_loss_func=torch.nn.CrossEntropyLoss(),\n",
    "    n_way=n_way,\n",
    "    n_shot_train=n_shot,\n",
    "    n_shot_val=n_shot,\n",
    "    device='cuda')\n",
    "\n",
    "\n",
    "# start variance computation\n",
    "explained_variance_ratio = []\n",
    "for train_task_batch, _ in iter(dataset):\n",
    "\n",
    "    train_task = train_task_batch[0]\n",
    "    n_samples = train_task.x.shape[0]\n",
    "    train_task_batch_x = torch.stack([task.x for task in train_task_batch], dim=0)\n",
    "    train_task_batch_y = torch.stack([task.y for task in train_task_batch], dim=0)\n",
    "    n_samples_per_class = n_samples // n_way\n",
    "    n_tasks = (n_samples_per_class // n_shot)\n",
    "    estimators = []\n",
    "        \n",
    "    for _ in range(n_runs):\n",
    "        train_task_batch_x_shuffled = []\n",
    "        for i in range(n_way):\n",
    "            random_indices = np.random.permutation(n_samples_per_class)\n",
    "            train_task_batch_x_shuffled.append(train_task_batch_x[:, random_indices + i*n_samples_per_class])\n",
    "        train_task_batch_x = torch.cat(train_task_batch_x_shuffled, dim=1)\n",
    "        for i in tqdm(range(0, n_tasks)):\n",
    "            indices = np.array(\n",
    "                [[n_samples_per_class*j + n_shot*i + k for k in range(n_shot)] for j in range(n_way)]\n",
    "            ).reshape(-1).tolist()\n",
    "            samples_x = train_task_batch_x[:,indices]\n",
    "            samples_y = train_task_batch_y[:,indices]\n",
    "            assert len(set(samples_y.view(-1).cpu().numpy())) == n_way\n",
    "        #         print(samples_x.shape, samples_y.shape, len(set(samples_y.view(-1))))\n",
    "            estimators.append(algorithm.inner_loop_adapt(\n",
    "                support=samples_x, \n",
    "                support_labels=samples_y, \n",
    "                query=samples_x,\n",
    "                return_estimator=True\n",
    "            ).detach().cpu())\n",
    "    explained_variance_ratio.append(compute_variance(estimators, n_classes=n_way))\n",
    "\n",
    "variance_stat[exp_name] = np.concatenate(explained_variance_ratio, axis=0).mean(0)\n",
    "\n",
    "with open('variance_stat.pkl', 'wb') as f:\n",
    "    pickle.dump(variance_stat, f)\n",
    "    \n",
    "    \n",
    "plt.plot(variance_stat[exp_name])\n",
    "plt.xticks(np.arange(0, variance_stat[exp_name].shape[-1], 50), size=8)\n",
    "plt.title(exp_name)\n",
    "plt.show()"
   ]
  },
  {
   "cell_type": "markdown",
   "metadata": {
    "nbpresent": {
     "id": "ec212a8f-d44d-41ee-8e9d-2f39f199b7a2"
    }
   },
   "source": [
    "# Protonet 5w5s"
   ]
  },
  {
   "cell_type": "code",
   "execution_count": null,
   "metadata": {
    "nbpresent": {
     "id": "3e955740-604a-46c5-b9e8-55d622284b49"
    },
    "scrolled": false
   },
   "outputs": [],
   "source": [
    "exp_name = 'protonet 5w5s'\n",
    "chkpt = './inner_solvers/minim_5w5s_protonet/maml_impregconv_8000.pt'\n",
    "torch.cuda.set_device(1)\n",
    "n_runs = 10\n",
    "n_way=5\n",
    "n_shot=5\n",
    "\n",
    "# dataset\n",
    "dataset = MiniimagenetMetaDataset(\n",
    "    root='data',\n",
    "    img_side_len=84,\n",
    "    num_classes_per_batch=n_way,\n",
    "    num_samples_per_class=600, # num train samples per class\n",
    "    num_total_batches=10,\n",
    "    num_val_samples=0, # num test samples per class\n",
    "    meta_batch_size=1,\n",
    "    split='val', # meta train/val/test\n",
    "    num_workers=4,\n",
    "    device='cuda')\n",
    "num_channels = 64\n",
    "\n",
    "\n",
    "# model \n",
    "model = ImpRegConvModel(\n",
    "        input_channels=dataset.input_size[0],\n",
    "        output_size=dataset.output_size,\n",
    "        num_channels=64,\n",
    "        img_side_len=dataset.input_size[1],\n",
    "        use_max_pool=False, # currently not used\n",
    "        verbose=False,\n",
    "        use_group_norm=True,\n",
    "        retain_activation=True,\n",
    "        add_bias=False)\n",
    "state_dict = torch.load(chkpt)\n",
    "model.load_state_dict(state_dict['model'])\n",
    "model.to('cuda')\n",
    "\n",
    "\n",
    "# algorithm\n",
    "algorithm = ProtoNet(\n",
    "    model=model,\n",
    "    inner_loss_func=torch.nn.CrossEntropyLoss(),\n",
    "    n_way=n_way,\n",
    "    n_shot_train=n_shot,\n",
    "    n_shot_val=n_shot,\n",
    "    device='cuda')\n",
    "\n",
    "\n",
    "# start variance computation\n",
    "explained_variance_ratio = []\n",
    "for train_task_batch, _ in iter(dataset):\n",
    "\n",
    "    train_task = train_task_batch[0]\n",
    "    n_samples = train_task.x.shape[0]\n",
    "    train_task_batch_x = torch.stack([task.x for task in train_task_batch], dim=0)\n",
    "    train_task_batch_y = torch.stack([task.y for task in train_task_batch], dim=0)\n",
    "    n_samples_per_class = n_samples // n_way\n",
    "    n_tasks = (n_samples_per_class // n_shot)\n",
    "    estimators = []\n",
    "        \n",
    "    for _ in range(n_runs):\n",
    "        train_task_batch_x_shuffled = []\n",
    "        for i in range(n_way):\n",
    "            random_indices = np.random.permutation(n_samples_per_class)\n",
    "            train_task_batch_x_shuffled.append(train_task_batch_x[:, random_indices + i*n_samples_per_class])\n",
    "        train_task_batch_x = torch.cat(train_task_batch_x_shuffled, dim=1)\n",
    "        for i in tqdm(range(0, n_tasks)):\n",
    "            indices = np.array(\n",
    "                [[n_samples_per_class*j + n_shot*i + k for k in range(n_shot)] for j in range(n_way)]\n",
    "            ).reshape(-1).tolist()\n",
    "            samples_x = train_task_batch_x[:,indices]\n",
    "            samples_y = train_task_batch_y[:,indices]\n",
    "            assert len(set(samples_y.view(-1).cpu().numpy())) == n_way\n",
    "        #         print(samples_x.shape, samples_y.shape, len(set(samples_y.view(-1))))\n",
    "            estimators.append(algorithm.inner_loop_adapt(\n",
    "                support=samples_x, \n",
    "                support_labels=samples_y, \n",
    "                query=samples_x,\n",
    "                return_estimator=True\n",
    "            ).detach().cpu())\n",
    "    explained_variance_ratio.append(compute_variance(estimators, n_classes=n_way))\n",
    "\n",
    "variance_stat[exp_name] = np.concatenate(explained_variance_ratio, axis=0).mean(0)\n",
    "\n",
    "with open('variance_stat.pkl', 'wb') as f:\n",
    "    pickle.dump(variance_stat, f)\n",
    "\n",
    "plt.plot(variance_stat[exp_name])\n",
    "plt.xticks(np.arange(0, variance_stat[exp_name].shape[-1], 50), size=8)\n",
    "plt.title(exp_name)\n",
    "plt.show()\n",
    "\n"
   ]
  },
  {
   "cell_type": "markdown",
   "metadata": {
    "nbpresent": {
     "id": "19cd8f22-8cbe-421f-94e2-8e43e740d230"
    }
   },
   "source": [
    "# Protonet 5w1s"
   ]
  },
  {
   "cell_type": "code",
   "execution_count": 13,
   "metadata": {
    "nbpresent": {
     "id": "ec9e065c-e9b9-4f52-9612-b925cdbfc19f"
    },
    "scrolled": false
   },
   "outputs": [
    {
     "name": "stdout",
     "output_type": "stream",
     "text": [
      "MiniImagenet val\n",
      "add_bias to output features :  False\n"
     ]
    },
    {
     "name": "stderr",
     "output_type": "stream",
     "text": [
      "  1%|          | 6/600 [00:00<00:11, 53.90it/s]"
     ]
    },
    {
     "name": "stdout",
     "output_type": "stream",
     "text": [
      "Before Modulation\n",
      "tensor([61.3414, 70.4239, 67.7692, 61.1326, 67.2534], device='cuda:1',\n",
      "       grad_fn=<NormBackward1>)\n"
     ]
    },
    {
     "name": "stderr",
     "output_type": "stream",
     "text": [
      "100%|██████████| 600/600 [00:07<00:00, 85.38it/s]\n",
      "100%|██████████| 600/600 [00:06<00:00, 89.98it/s]\n",
      "100%|██████████| 600/600 [00:06<00:00, 90.29it/s]\n",
      "100%|██████████| 600/600 [00:06<00:00, 92.96it/s]\n",
      "100%|██████████| 600/600 [00:06<00:00, 92.79it/s]\n",
      "100%|██████████| 600/600 [00:06<00:00, 92.73it/s]\n",
      "100%|██████████| 600/600 [00:06<00:00, 92.84it/s]\n",
      "100%|██████████| 600/600 [00:06<00:00, 92.66it/s]\n",
      "100%|██████████| 600/600 [00:06<00:00, 93.03it/s]\n",
      "100%|██████████| 600/600 [00:06<00:00, 92.45it/s]\n",
      "100%|██████████| 600/600 [00:06<00:00, 92.19it/s]\n",
      "100%|██████████| 600/600 [00:06<00:00, 92.54it/s]\n",
      "100%|██████████| 600/600 [00:06<00:00, 92.45it/s]\n",
      "100%|██████████| 600/600 [00:06<00:00, 92.86it/s]\n",
      "100%|██████████| 600/600 [00:06<00:00, 92.00it/s]\n",
      "100%|██████████| 600/600 [00:06<00:00, 92.33it/s]\n",
      "100%|██████████| 600/600 [00:06<00:00, 91.66it/s]\n",
      "100%|██████████| 600/600 [00:06<00:00, 91.01it/s]\n",
      "100%|██████████| 600/600 [00:06<00:00, 91.19it/s]\n",
      "100%|██████████| 600/600 [00:06<00:00, 92.37it/s]\n"
     ]
    },
    {
     "name": "stdout",
     "output_type": "stream",
     "text": [
      "0.47874664627068253 0.01518112111579381\n"
     ]
    }
   ],
   "source": [
    "exp_name = 'Protonet 5w1s test on 5w5s'\n",
    "chkpt = './inner_solvers/minim_5w1s_protonet/maml_impregconv_20000.pt'\n",
    "torch.cuda.set_device(1)\n",
    "n_runs = 2\n",
    "n_way=5\n",
    "n_shot=1\n",
    "\n",
    "# dataset\n",
    "dataset = MiniimagenetMetaDataset(\n",
    "    root='data',\n",
    "    img_side_len=84,\n",
    "    num_classes_per_batch=n_way,\n",
    "    num_samples_per_class=600, # num train samples per class\n",
    "    num_total_batches=10,\n",
    "    num_val_samples=0, # num test samples per class\n",
    "    meta_batch_size=1,\n",
    "    split='val', # meta train/val/test\n",
    "    num_workers=4,\n",
    "    device='cuda')\n",
    "num_channels = 64\n",
    "\n",
    "\n",
    "# model \n",
    "model = ImpRegConvModel(\n",
    "        input_channels=dataset.input_size[0],\n",
    "        num_channels=64,\n",
    "        img_side_len=dataset.input_size[1],\n",
    "        verbose=False,\n",
    "        use_group_norm=True,\n",
    "        retain_activation=True,\n",
    "        add_bias=False)\n",
    "state_dict = torch.load(chkpt)\n",
    "model.load_state_dict(state_dict['model'])\n",
    "model.to('cuda')\n",
    "\n",
    "\n",
    "# algorithm\n",
    "algorithm = ProtoNet(\n",
    "    model=model,\n",
    "    inner_loss_func=torch.nn.CrossEntropyLoss(),\n",
    "    n_way=n_way,\n",
    "    n_shot_train=n_shot,\n",
    "    n_shot_val=n_shot,\n",
    "    device='cuda')\n",
    "\n",
    "\n",
    "# start variance computation\n",
    "explained_variance_ratio = []\n",
    "perf_mean = []\n",
    "perf_var = []\n",
    "for train_task_batch, _ in iter(dataset):\n",
    "\n",
    "    train_task = train_task_batch[0]\n",
    "    n_samples = train_task.x.shape[0]\n",
    "    train_task_batch_x = torch.stack([task.x for task in train_task_batch], dim=0)\n",
    "    train_task_batch_y = torch.stack([task.y for task in train_task_batch], dim=0)\n",
    "    n_samples_per_class = n_samples // n_way\n",
    "    n_tasks = (n_samples_per_class // n_shot)\n",
    "    estimators = []\n",
    "        \n",
    "    for _ in range(n_runs):\n",
    "        train_task_batch_x_shuffled = []\n",
    "        for i in range(n_way):\n",
    "            random_indices = np.random.permutation(n_samples_per_class)\n",
    "            train_task_batch_x_shuffled.append(train_task_batch_x[:, random_indices + i*n_samples_per_class])\n",
    "        train_task_batch_x = torch.cat(train_task_batch_x_shuffled, dim=1)\n",
    "        for i in tqdm(range(0, n_tasks)):\n",
    "            indices = np.array(\n",
    "                [[n_samples_per_class*j + n_shot*i + k for k in range(n_shot)] for j in range(n_way)]\n",
    "            ).reshape(-1).tolist()\n",
    "            samples_x = train_task_batch_x[:,indices]\n",
    "            samples_y = train_task_batch_y[:,indices]\n",
    "            assert len(set(samples_y.view(-1).cpu().numpy())) == n_way\n",
    "        #         print(samples_x.shape, samples_y.shape, len(set(samples_y.view(-1))))\n",
    "            test_indices = np.random.choice(3000, 100, replace=False)\n",
    "            estimator = algorithm.inner_loop_adapt(\n",
    "                support=samples_x, \n",
    "                support_labels=samples_y, \n",
    "                query=samples_x,\n",
    "                return_estimator=True\n",
    "            ).unsqueeze(0).detach().cpu()\n",
    "            perf.append(\n",
    "                get_test_performance(\n",
    "                    model(train_task_batch_x[0, test_indices], modulation=None), \n",
    "                    train_task_batch_y[0, test_indices], \n",
    "                    estimator\n",
    "                )\n",
    "            )\n",
    "            estimators.append(estimator.detach().cpu().numpy())\n",
    "#     explained_variance_ratio.append(compute_variance(estimators, n_classes=n_way))\n",
    "    perf_mean.append(np.mean(perf))\n",
    "    perf_var.append(np.var(perf))\n",
    "\n",
    "\n",
    "print(np.mean(perf_mean), np.mean(perf_var))\n",
    "    \n",
    "# variance_stat[exp_name] = np.concatenate(explained_variance_ratio, axis=0).mean(0)\n",
    "\n",
    "# with open('variance_stat.pkl', 'wb') as f:\n",
    "#     pickle.dump(variance_stat, f)\n",
    "    \n",
    "    \n",
    "# plt.plot(variance_stat[exp_name])\n",
    "# plt.xticks(np.arange(0, variance_stat[exp_name].shape[-1], 50), size=8)\n",
    "# plt.title(exp_name)\n",
    "# plt.show()"
   ]
  },
  {
   "cell_type": "code",
   "execution_count": null,
   "metadata": {
    "nbpresent": {
     "id": "df947cfe-d1a6-4ad8-92f4-984f34ded0f1"
    }
   },
   "outputs": [],
   "source": [
    "for name, est in variance_stat.items():\n",
    "    plt.plot(est[:3], label=name)\n",
    "plt.legend()\n",
    "plt.show()"
   ]
  },
  {
   "cell_type": "code",
   "execution_count": null,
   "metadata": {},
   "outputs": [],
   "source": []
  },
  {
   "cell_type": "code",
   "execution_count": null,
   "metadata": {},
   "outputs": [],
   "source": []
  },
  {
   "cell_type": "code",
   "execution_count": null,
   "metadata": {},
   "outputs": [],
   "source": []
  },
  {
   "cell_type": "markdown",
   "metadata": {},
   "source": [
    "# LR 5w5s"
   ]
  },
  {
   "cell_type": "code",
   "execution_count": 8,
   "metadata": {},
   "outputs": [
    {
     "name": "stdout",
     "output_type": "stream",
     "text": [
      "MiniImagenet val\n"
     ]
    },
    {
     "ename": "TypeError",
     "evalue": "__init__() got an unexpected keyword argument 'output_size'",
     "output_type": "error",
     "traceback": [
      "\u001b[0;31m---------------------------------------------------------------------------\u001b[0m",
      "\u001b[0;31mTypeError\u001b[0m                                 Traceback (most recent call last)",
      "\u001b[0;32m<ipython-input-8-fe0935b1bbd8>\u001b[0m in \u001b[0;36m<module>\u001b[0;34m\u001b[0m\n\u001b[1;32m     31\u001b[0m         \u001b[0muse_group_norm\u001b[0m\u001b[0;34m=\u001b[0m\u001b[0;32mTrue\u001b[0m\u001b[0;34m,\u001b[0m\u001b[0;34m\u001b[0m\u001b[0;34m\u001b[0m\u001b[0m\n\u001b[1;32m     32\u001b[0m         \u001b[0mretain_activation\u001b[0m\u001b[0;34m=\u001b[0m\u001b[0;32mTrue\u001b[0m\u001b[0;34m,\u001b[0m\u001b[0;34m\u001b[0m\u001b[0;34m\u001b[0m\u001b[0m\n\u001b[0;32m---> 33\u001b[0;31m         add_bias=False)\n\u001b[0m\u001b[1;32m     34\u001b[0m \u001b[0mstate_dict\u001b[0m \u001b[0;34m=\u001b[0m \u001b[0mtorch\u001b[0m\u001b[0;34m.\u001b[0m\u001b[0mload\u001b[0m\u001b[0;34m(\u001b[0m\u001b[0mchkpt\u001b[0m\u001b[0;34m)\u001b[0m\u001b[0;34m\u001b[0m\u001b[0;34m\u001b[0m\u001b[0m\n\u001b[1;32m     35\u001b[0m \u001b[0mmodel\u001b[0m\u001b[0;34m.\u001b[0m\u001b[0mload_state_dict\u001b[0m\u001b[0;34m(\u001b[0m\u001b[0mstate_dict\u001b[0m\u001b[0;34m[\u001b[0m\u001b[0;34m'model'\u001b[0m\u001b[0;34m]\u001b[0m\u001b[0;34m)\u001b[0m\u001b[0;34m\u001b[0m\u001b[0;34m\u001b[0m\u001b[0m\n",
      "\u001b[0;31mTypeError\u001b[0m: __init__() got an unexpected keyword argument 'output_size'"
     ]
    }
   ],
   "source": [
    "exp_name = 'LR 5w5s'\n",
    "chkpt = './inner_solvers/minim_5w5s_LR/maml_impregconv_18000.pt'\n",
    "torch.cuda.set_device(0)\n",
    "n_runs = 10\n",
    "n_way=5\n",
    "n_shot=5\n",
    "\n",
    "# dataset\n",
    "dataset = MiniimagenetMetaDataset(\n",
    "    root='data',\n",
    "    img_side_len=84,\n",
    "    num_classes_per_batch=n_way,\n",
    "    num_samples_per_class=600, # num train samples per class\n",
    "    num_total_batches=10,\n",
    "    num_val_samples=0, # num test samples per class\n",
    "    meta_batch_size=1,\n",
    "    split='val', # meta train/val/test\n",
    "    num_workers=4,\n",
    "    device='cuda')\n",
    "num_channels = 64\n",
    "\n",
    "\n",
    "# model \n",
    "model = ImpRegConvModel(\n",
    "        input_channels=dataset.input_size[0],\n",
    "        output_size=dataset.output_size,\n",
    "        num_channels=64,\n",
    "        img_side_len=dataset.input_size[1],\n",
    "        use_max_pool=False, # currently not used\n",
    "        verbose=False,\n",
    "        use_group_norm=True,\n",
    "        retain_activation=True,\n",
    "        add_bias=False)\n",
    "state_dict = torch.load(chkpt)\n",
    "model.load_state_dict(state_dict['model'])\n",
    "model.to('cuda')\n",
    "\n",
    "\n",
    "# algorithm\n",
    "algorithm = ImpRMAML_inner_algorithm(\n",
    "    model=model,\n",
    "    embedding_model=None,\n",
    "    inner_loss_func=torch.nn.CrossEntropyLoss(),\n",
    "    l2_lambda=10.,\n",
    "    device='cuda',\n",
    "    is_classification=True)\n",
    "\n",
    "\n",
    "# start variance computation\n",
    "explained_variance_ratio = []\n",
    "for train_task_batch, _ in iter(dataset):\n",
    "\n",
    "    train_task = train_task_batch[0]\n",
    "    n_samples = train_task.x.shape[0]\n",
    "    train_task_batch_x = torch.stack([task.x for task in train_task_batch], dim=0)\n",
    "    train_task_batch_y = torch.stack([task.y for task in train_task_batch], dim=0)\n",
    "    n_samples_per_class = n_samples // n_way\n",
    "    n_tasks = (n_samples_per_class // n_shot)\n",
    "    estimators = []\n",
    "        \n",
    "    for _ in range(n_runs):\n",
    "        train_task_batch_x_shuffled = []\n",
    "        for i in range(n_way):\n",
    "            random_indices = np.random.permutation(n_samples_per_class)\n",
    "            train_task_batch_x_shuffled.append(train_task_batch_x[:, random_indices + i*n_samples_per_class])\n",
    "        train_task_batch_x = torch.cat(train_task_batch_x_shuffled, dim=1)\n",
    "        for i in tqdm(range(0, n_tasks)):\n",
    "            indices = np.array(\n",
    "                [[n_samples_per_class*j + n_shot*i + k for k in range(n_shot)] for j in range(n_way)]\n",
    "            ).reshape(-1).tolist()\n",
    "            samples_x = train_task_batch_x[:,indices]\n",
    "            samples_y = train_task_batch_y[:,indices]\n",
    "            assert len(set(samples_y.view(-1).cpu().numpy())) == n_way\n",
    "        #         print(samples_x.shape, samples_y.shape, len(set(samples_y.view(-1))))\n",
    "        \n",
    "            test_indices = np.random.choice(3000, 100, replace=False)\n",
    "            estimator = algorithm.inner_loop_adapt(\n",
    "                Task(samples_x[0], samples_y[0], 'miniimagenet'),\n",
    "                return_estimator=True\n",
    "            ).unsqueeze(0).detach().cpu()\n",
    "            perf.append(\n",
    "                get_test_performance(\n",
    "                    model(train_task_batch_x[0, test_indices], modulation=None), \n",
    "                    train_task_batch_y[0, test_indices], \n",
    "                    estimator\n",
    "                )\n",
    "            )\n",
    "            estimators.append(estimator.detach().cpu().numpy())\n",
    "#     explained_variance_ratio.append(compute_variance(estimators, n_classes=n_way))\n",
    "    perf_mean.append(np.mean(perf))\n",
    "    perf_var.append(np.var(perf))\n",
    "\n",
    "\n",
    "print(np.mean(perf_mean), np.mean(perf_var))\n",
    "    \n",
    "# variance_stat[exp_name] = np.concatenate(explained_variance_ratio, axis=0).mean(0)\n",
    "\n",
    "# with open('variance_stat.pkl', 'wb') as f:\n",
    "#     pickle.dump(variance_stat, f)\n",
    "    \n",
    "    \n",
    "# plt.plot(variance_stat[exp_name])\n",
    "# plt.xticks(np.arange(0, variance_stat[exp_name].shape[-1], 50), size=8)\n",
    "# plt.title(exp_name)\n",
    "# plt.show()"
   ]
  },
  {
   "cell_type": "code",
   "execution_count": 15,
   "metadata": {},
   "outputs": [
    {
     "data": {
      "text/plain": [
       "torch.Size([5, 1600])"
      ]
     },
     "execution_count": 15,
     "metadata": {},
     "output_type": "execute_result"
    }
   ],
   "source": [
    "estimators[0].shape"
   ]
  },
  {
   "cell_type": "markdown",
   "metadata": {},
   "source": [
    "# LR 5w1s"
   ]
  },
  {
   "cell_type": "code",
   "execution_count": 7,
   "metadata": {
    "scrolled": false
   },
   "outputs": [
    {
     "name": "stdout",
     "output_type": "stream",
     "text": [
      "MiniImagenet val\n",
      "add_bias to output features :  False\n"
     ]
    },
    {
     "name": "stderr",
     "output_type": "stream",
     "text": [
      "  1%|          | 4/600 [00:00<00:16, 36.87it/s]"
     ]
    },
    {
     "name": "stdout",
     "output_type": "stream",
     "text": [
      "Before Modulation\n",
      "tensor([12.0631, 10.5267, 13.2797, 11.4619, 10.2833], device='cuda:1',\n",
      "       grad_fn=<NormBackward1>)\n"
     ]
    },
    {
     "name": "stderr",
     "output_type": "stream",
     "text": [
      "100%|██████████| 600/600 [00:15<00:00, 38.92it/s]\n",
      "100%|██████████| 600/600 [00:14<00:00, 40.77it/s]\n",
      "100%|██████████| 600/600 [00:14<00:00, 40.70it/s]\n",
      "100%|██████████| 600/600 [00:14<00:00, 41.60it/s]\n",
      "100%|██████████| 600/600 [00:14<00:00, 41.97it/s]\n",
      "100%|██████████| 600/600 [00:14<00:00, 41.87it/s]\n",
      "100%|██████████| 600/600 [00:14<00:00, 41.53it/s]\n",
      "100%|██████████| 600/600 [00:14<00:00, 41.66it/s]\n",
      "100%|██████████| 600/600 [00:14<00:00, 41.86it/s]\n",
      "100%|██████████| 600/600 [00:14<00:00, 41.89it/s]\n",
      "100%|██████████| 600/600 [00:14<00:00, 41.97it/s]\n",
      "100%|██████████| 600/600 [00:14<00:00, 42.16it/s]\n",
      "100%|██████████| 600/600 [00:14<00:00, 40.96it/s]\n",
      "100%|██████████| 600/600 [00:14<00:00, 41.13it/s]\n",
      "100%|██████████| 600/600 [00:14<00:00, 41.83it/s]\n",
      "100%|██████████| 600/600 [00:14<00:00, 42.06it/s]\n",
      "100%|██████████| 600/600 [00:14<00:00, 41.97it/s]\n",
      "100%|██████████| 600/600 [00:14<00:00, 42.06it/s]\n",
      "100%|██████████| 600/600 [00:14<00:00, 41.58it/s]\n",
      "100%|██████████| 600/600 [00:14<00:00, 41.38it/s]\n"
     ]
    },
    {
     "name": "stdout",
     "output_type": "stream",
     "text": [
      "0.4745566653621694 0.007847112822668834\n"
     ]
    }
   ],
   "source": [
    "exp_name = 'LR 5w1s'\n",
    "chkpt = './inner_solvers/minim_5w1s_LR/maml_impregconv_18000.pt'\n",
    "torch.cuda.set_device(1)\n",
    "n_runs = 2\n",
    "n_way=5\n",
    "n_shot=1\n",
    "\n",
    "# dataset\n",
    "dataset = MiniimagenetMetaDataset(\n",
    "    root='data',\n",
    "    img_side_len=84,\n",
    "    num_classes_per_batch=n_way,\n",
    "    num_samples_per_class=600, # num train samples per class\n",
    "    num_total_batches=10,\n",
    "    num_val_samples=0, # num test samples per class\n",
    "    meta_batch_size=1,\n",
    "    split='val', # meta train/val/test\n",
    "    num_workers=4,\n",
    "    device='cuda')\n",
    "num_channels = 64\n",
    "\n",
    "\n",
    "# model \n",
    "model = ImpRegConvModel(\n",
    "        input_channels=dataset.input_size[0],\n",
    "        num_channels=64,\n",
    "        img_side_len=dataset.input_size[1],\n",
    "        verbose=False,\n",
    "        use_group_norm=True,\n",
    "        retain_activation=True,\n",
    "        add_bias=False)\n",
    "state_dict = torch.load(chkpt)\n",
    "model.load_state_dict(state_dict['model'])\n",
    "model.to('cuda')\n",
    "\n",
    "\n",
    "# algorithm\n",
    "algorithm = ImpRMAML_inner_algorithm(\n",
    "    model=model,\n",
    "    embedding_model=None,\n",
    "    inner_loss_func=torch.nn.CrossEntropyLoss(),\n",
    "    l2_lambda=10.,\n",
    "    device='cuda',\n",
    "    is_classification=True)\n",
    "\n",
    "# start variance computation\n",
    "explained_variance_ratio = []\n",
    "perf_mean = []\n",
    "perf_var = []\n",
    "for train_task_batch, _ in iter(dataset):\n",
    "\n",
    "    train_task = train_task_batch[0]\n",
    "    n_samples = train_task.x.shape[0]\n",
    "    train_task_batch_x = torch.stack([task.x for task in train_task_batch], dim=0)\n",
    "    train_task_batch_y = torch.stack([task.y for task in train_task_batch], dim=0)\n",
    "    n_samples_per_class = n_samples // n_way\n",
    "    n_tasks = (n_samples_per_class // n_shot)\n",
    "    estimators = []\n",
    "    perf = []\n",
    "    for _ in range(n_runs):\n",
    "        train_task_batch_x_shuffled = []\n",
    "        for i in range(n_way):\n",
    "            random_indices = np.random.permutation(n_samples_per_class)\n",
    "            train_task_batch_x_shuffled.append(train_task_batch_x[:, random_indices + i*n_samples_per_class])\n",
    "        train_task_batch_x = torch.cat(train_task_batch_x_shuffled, dim=1)\n",
    "        for i in tqdm(range(0, n_tasks)):\n",
    "            indices = np.array(\n",
    "                [[n_samples_per_class*j + n_shot*i + k for k in range(n_shot)] for j in range(n_way)]\n",
    "            ).reshape(-1).tolist()\n",
    "            samples_x = train_task_batch_x[:,indices]\n",
    "            samples_y = train_task_batch_y[:,indices]\n",
    "            assert len(set(samples_y.view(-1).cpu().numpy())) == n_way\n",
    "        #         print(samples_x.shape, samples_y.shape, len(set(samples_y.view(-1))))\n",
    "            test_indices = np.random.choice(3000, 100, replace=False)\n",
    "            \n",
    "            estimator = algorithm.inner_loop_adapt(\n",
    "                Task(samples_x[0], samples_y[0], 'miniimagenet'),\n",
    "                return_estimator=True\n",
    "            ).unsqueeze(0).detach().cpu()\n",
    "            perf.append(\n",
    "                get_test_performance(\n",
    "                    model(train_task_batch_x[0, test_indices], modulation=None), \n",
    "                    train_task_batch_y[0, test_indices], \n",
    "                    estimator\n",
    "                )\n",
    "            )\n",
    "            estimators.append(estimator.detach().cpu().numpy())\n",
    "#     explained_variance_ratio.append(compute_variance(estimators, n_classes=n_way))\n",
    "    perf_mean.append(np.mean(perf))\n",
    "    perf_var.append(np.var(perf))\n",
    "\n",
    "\n",
    "print(np.mean(perf_mean), np.mean(perf_var))\n",
    "    \n",
    "# variance_stat[exp_name] = np.concatenate(explained_variance_ratio, axis=0).mean(0)\n",
    "\n",
    "# with open('variance_stat.pkl', 'wb') as f:\n",
    "#     pickle.dump(variance_stat, f)\n",
    "    \n",
    "    \n",
    "# plt.plot(variance_stat[exp_name])\n",
    "# plt.xticks(np.arange(0, variance_stat[exp_name].shape[-1], 50), size=8)\n",
    "# plt.title(exp_name)\n",
    "# plt.show()"
   ]
  },
  {
   "cell_type": "code",
   "execution_count": 102,
   "metadata": {},
   "outputs": [],
   "source": [
    "def accuracy(preds, y):\n",
    "    _, preds = torch.max(preds.data, 1)\n",
    "    total = y.size(0)\n",
    "    correct = (preds == y).sum().float()\n",
    "    return (correct / total).item()\n",
    "\n",
    "def get_test_performance(X, y, estimator):\n",
    "    preds = X.detach().cpu() @ estimator.squeeze().T\n",
    "    y = y.detach().cpu()\n",
    "    return accuracy(preds, y)"
   ]
  },
  {
   "cell_type": "code",
   "execution_count": null,
   "metadata": {},
   "outputs": [],
   "source": []
  },
  {
   "cell_type": "code",
   "execution_count": 42,
   "metadata": {},
   "outputs": [
    {
     "data": {
      "image/png": "[encoded data removed]",
      "text/plain": [
       "<Figure size 432x288 with 1 Axes>"
      ]
     },
     "metadata": {
      "needs_background": "light"
     },
     "output_type": "display_data"
    }
   ],
   "source": [
    "for name, est in variance_stat.items():\n",
    "    if '5w5s' in name and 'test' not in name:\n",
    "        plt.plot(est[:10], label=name, marker='o', markersize=4)\n",
    "plt.xticks(np.arange(0, 10), size=8)\n",
    "plt.yticks(np.arange(0, 0.3, 0.05), size=8)\n",
    "plt.legend()\n",
    "plt.show()"
   ]
  },
  {
   "cell_type": "code",
   "execution_count": 41,
   "metadata": {},
   "outputs": [
    {
     "data": {
      "image/png": "[encoded data removed]",
      "text/plain": [
       "<Figure size 432x288 with 1 Axes>"
      ]
     },
     "metadata": {
      "needs_background": "light"
     },
     "output_type": "display_data"
    }
   ],
   "source": [
    "for name, est in variance_stat.items():\n",
    "    if '5w1s' in name and 'test' not in name:\n",
    "        plt.plot(est[:10], label=name, marker='o')\n",
    "plt.xticks(np.arange(0, 10), size=8)\n",
    "plt.yticks(np.arange(0, 0.5, 0.05), size=8)\n",
    "plt.legend()\n",
    "plt.show()"
   ]
  },
  {
   "cell_type": "code",
   "execution_count": null,
   "metadata": {},
   "outputs": [],
   "source": []
  },
  {
   "cell_type": "code",
   "execution_count": null,
   "metadata": {},
   "outputs": [],
   "source": []
  },
  {
   "cell_type": "code",
   "execution_count": null,
   "metadata": {},
   "outputs": [],
   "source": []
  },
  {
   "cell_type": "code",
   "execution_count": null,
   "metadata": {},
   "outputs": [],
   "source": []
  },
  {
   "cell_type": "code",
   "execution_count": null,
   "metadata": {},
   "outputs": [],
   "source": []
  },
  {
   "cell_type": "markdown",
   "metadata": {},
   "source": [
    "## simulations"
   ]
  },
  {
   "cell_type": "code",
   "execution_count": 14,
   "metadata": {},
   "outputs": [],
   "source": [
    "import numpy as np"
   ]
  },
  {
   "cell_type": "code",
   "execution_count": 15,
   "metadata": {},
   "outputs": [],
   "source": [
    "def sample(mu_1, mu_2, sigmas, n_samples=1):\n",
    "    sample_1 = sigmas * np.random.randn(n_samples, 2) + mu_1\n",
    "    sample_2 = sigmas * np.random.randn(n_samples, 2) + mu_2\n",
    "    return sample_1, sample_2"
   ]
  },
  {
   "cell_type": "code",
   "execution_count": 16,
   "metadata": {},
   "outputs": [],
   "source": [
    "mu_1 = np.array([0. , 0.])\n",
    "mu_2 = np.array([8. , 0.])"
   ]
  },
  {
   "cell_type": "code",
   "execution_count": 17,
   "metadata": {},
   "outputs": [],
   "source": [
    "sigma_base = np.arange(0.1, 2.0, 0.5)\n",
    "sigma_ratio = np.arange(1., 10., 1.)"
   ]
  },
  {
   "cell_type": "code",
   "execution_count": 18,
   "metadata": {},
   "outputs": [],
   "source": [
    "def compute_var(base, ratio, rev=False):\n",
    "#     sigmas = np.arange(sigma_base, sigma_ratio*sigma_base, (sigma_ratio*sigma_base)/2.)\n",
    "    sigmas = [base, base * ratio]\n",
    "    if rev:\n",
    "        sigmas = sigmas[::-1]\n",
    "    perf = []\n",
    "    for _ in range(1000):\n",
    "        sample_1, sample_2 = sample(mu_1, mu_2, sigmas)\n",
    "        lr = LogisticRegression(penalty='none', tol=1e-10, max_iter=1000)\n",
    "        lr.fit(np.concatenate([sample_1, sample_2]), np.array([0, 1]))\n",
    "        test_samples_1, test_samples_2 = sample(mu_1, mu_2, sigmas, n_samples=1000)\n",
    "        correct = sum(lr.predict(test_samples_1) == 0) + sum(lr.predict(test_samples_2) == 1)\n",
    "        perf.append(correct / 2000)\n",
    "    return np.mean(perf), np.var(perf)        \n",
    "    "
   ]
  },
  {
   "cell_type": "code",
   "execution_count": 19,
   "metadata": {},
   "outputs": [
    {
     "name": "stdout",
     "output_type": "stream",
     "text": [
      "base: 0.1 ratio: 1.0 perf: mean,var (1.0, 0.0)\n",
      "base: 0.1 ratio: 2.0 perf: mean,var (1.0, 0.0)\n",
      "base: 0.1 ratio: 3.0 perf: mean,var (0.999999, 4.989999999998905e-10)\n",
      "base: 0.1 ratio: 4.0 perf: mean,var (0.9997985, 1.5776477499999925e-06)\n",
      "base: 0.1 ratio: 5.0 perf: mean,var (0.9980555, 3.9277169749999996e-05)\n",
      "base: 0.1 ratio: 6.0 perf: mean,var (0.9921155, 0.0002915564097500002)\n",
      "base: 0.1 ratio: 7.0 perf: mean,var (0.9810654999999999, 0.0009158399597500002)\n",
      "base: 0.1 ratio: 8.0 perf: mean,var (0.9689855, 0.0017248000397500002)\n",
      "base: 0.1 ratio: 9.0 perf: mean,var (0.954413, 0.002966984431)\n",
      "base: 0.6 ratio: 1.0 perf: mean,var (0.981779, 0.0007326326590000003)\n",
      "base: 0.6 ratio: 2.0 perf: mean,var (0.8904185, 0.00781722210775)\n",
      "base: 0.6 ratio: 3.0 perf: mean,var (0.8158395, 0.011606213489750002)\n",
      "base: 0.6 ratio: 4.0 perf: mean,var (0.7643135, 0.01374689896775)\n",
      "base: 0.6 ratio: 5.0 perf: mean,var (0.7288945, 0.013185077619750001)\n",
      "base: 0.6 ratio: 6.0 perf: mean,var (0.7102645, 0.01298028628975)\n",
      "base: 0.6 ratio: 7.0 perf: mean,var (0.6935650000000001, 0.011796542275)\n",
      "base: 0.6 ratio: 8.0 perf: mean,var (0.6757730000000001, 0.011805782471)\n",
      "base: 0.6 ratio: 9.0 perf: mean,var (0.6702595, 0.012468553409750002)\n",
      "base: 1.1 ratio: 1.0 perf: mean,var (0.8680255, 0.00769063609975)\n",
      "base: 1.1 ratio: 2.0 perf: mean,var (0.7617085, 0.01504019577775)\n",
      "base: 1.1 ratio: 3.0 perf: mean,var (0.7117315000000001, 0.01331889415775)\n",
      "base: 1.1 ratio: 4.0 perf: mean,var (0.6859345000000001, 0.012563637459750001)\n",
      "base: 1.1 ratio: 5.0 perf: mean,var (0.6671015, 0.01216309544775)\n",
      "base: 1.1 ratio: 6.0 perf: mean,var (0.6521520000000001, 0.012516377896000002)\n",
      "base: 1.1 ratio: 7.0 perf: mean,var (0.645298, 0.011959104696)\n",
      "base: 1.1 ratio: 8.0 perf: mean,var (0.646366, 0.010803796044000002)\n",
      "base: 1.1 ratio: 9.0 perf: mean,var (0.6319314999999999, 0.01165094855775)\n",
      "base: 1.6 ratio: 1.0 perf: mean,var (0.7894080000000001, 0.011419740036000001)\n",
      "base: 1.6 ratio: 2.0 perf: mean,var (0.7093745, 0.013262630999749999)\n",
      "base: 1.6 ratio: 3.0 perf: mean,var (0.6671924999999999, 0.01338109369375)\n",
      "base: 1.6 ratio: 4.0 perf: mean,var (0.6518634999999999, 0.012060943617749998)\n",
      "base: 1.6 ratio: 5.0 perf: mean,var (0.6411290000000001, 0.012470727859)\n",
      "base: 1.6 ratio: 6.0 perf: mean,var (0.6325815, 0.01068357010775)\n",
      "base: 1.6 ratio: 7.0 perf: mean,var (0.6271420000000001, 0.012310171836)\n",
      "base: 1.6 ratio: 8.0 perf: mean,var (0.6286605, 0.01073581398975)\n",
      "base: 1.6 ratio: 9.0 perf: mean,var (0.6230220000000001, 0.012058678016000001)\n"
     ]
    }
   ],
   "source": [
    "hyp_var = {}\n",
    "for base in sigma_base:\n",
    "    hyp_var[base] = {} \n",
    "    for ratio in sigma_ratio:\n",
    "        hyp_var[base][ratio] = compute_var(base, ratio)\n",
    "        print(\"base:\", base, \"ratio:\", ratio, \"perf: mean,var\", hyp_var[base][ratio])"
   ]
  },
  {
   "cell_type": "code",
   "execution_count": 20,
   "metadata": {},
   "outputs": [
    {
     "name": "stdout",
     "output_type": "stream",
     "text": [
      "0.1 1.0 (1.0, 0.0)\n",
      "0.1 2.0 (1.0, 0.0)\n",
      "0.1 3.0 (1.0, 0.0)\n",
      "0.1 4.0 (0.999839, 1.6040789999999975e-06)\n",
      "0.1 5.0 (0.998725, 2.8441874999999998e-05)\n",
      "0.1 6.0 (0.995003, 0.00019537949099999996)\n",
      "0.1 7.0 (0.9906115, 0.00046496431775000014)\n",
      "0.1 8.0 (0.9830754999999999, 0.0010294565497499999)\n",
      "0.1 9.0 (0.9759995, 0.0017689187497500001)\n",
      "0.6 1.0 (0.9824674999999999, 0.0007076631937500001)\n",
      "0.6 2.0 (0.934317, 0.003770126511000001)\n",
      "0.6 3.0 (0.880742, 0.006127790436)\n",
      "0.6 4.0 (0.829913, 0.009607808931000002)\n",
      "0.6 5.0 (0.7901234999999999, 0.01402650449775)\n",
      "0.6 6.0 (0.7517995000000001, 0.01551538054975)\n",
      "0.6 7.0 (0.7020695, 0.025729793919750003)\n",
      "0.6 8.0 (0.6810910000000001, 0.022604386219000003)\n",
      "0.6 9.0 (0.6591835000000001, 0.021531235577750003)\n",
      "1.1 1.0 (0.8737590000000001, 0.0070999909190000016)\n",
      "1.1 2.0 (0.7948785, 0.01083185098775)\n",
      "1.1 3.0 (0.7296545, 0.016176040879749998)\n",
      "1.1 4.0 (0.6737274999999999, 0.02143557549375)\n",
      "1.1 5.0 (0.645741, 0.019234213918999998)\n",
      "1.1 6.0 (0.6092000000000001, 0.0192977375)\n",
      "1.1 7.0 (0.586865, 0.016884146775)\n",
      "1.1 8.0 (0.563194, 0.015799962864)\n",
      "1.1 9.0 (0.5538879999999999, 0.013203482956)\n",
      "1.6 1.0 (0.782969, 0.012463402539)\n",
      "1.6 2.0 (0.716673, 0.013826790071)\n",
      "1.6 3.0 (0.651404, 0.018858293784000005)\n",
      "1.6 4.0 (0.6025245, 0.01965821364975)\n",
      "1.6 5.0 (0.5754095, 0.01588688455975)\n",
      "1.6 6.0 (0.556634, 0.013029723544)\n",
      "1.6 7.0 (0.547595, 0.010778323475)\n",
      "1.6 8.0 (0.5343025, 0.00885237774375)\n",
      "1.6 9.0 (0.5267774999999999, 0.007331425743750001)\n"
     ]
    }
   ],
   "source": [
    "hyp_var_2 = {}\n",
    "for base in sigma_base:\n",
    "    hyp_var_2[base] = {} \n",
    "    for ratio in sigma_ratio:\n",
    "        hyp_var_2[base][ratio] = compute_var(base, ratio, rev=True)\n",
    "        print(base, ratio, hyp_var_2[base][ratio])"
   ]
  },
  {
   "cell_type": "code",
   "execution_count": 149,
   "metadata": {},
   "outputs": [
    {
     "data": {
      "image/png": "[encoded data removed]",
      "text/plain": [
       "<Figure size 432x288 with 1 Axes>"
      ]
     },
     "metadata": {
      "needs_background": "light"
     },
     "output_type": "display_data"
    }
   ],
   "source": [
    "# for _, val in hyp_var_2.items():\n",
    "plt.scatter(np.arange(len(hyp_var_type1)), np.array(hyp_var_type1)[:, 0], label='type_1', marker='o')\n",
    "plt.scatter(np.arange(len(hyp_var_type2)), np.array(hyp_var_type2)[:, 0], label='type_2', marker='o')\n",
    "# plt.scatter(np.array(hyp_var_2.values())[:, 0], label='type_2', marker='o')\n",
    "#     plt.scatter(val[:, 0], label='mean', marker='o')\n",
    "# plt.xticks(np.arange(0, 10), size=8)b\n",
    "# plt.yticks(np.arange(0, 0.5, 0.05), size=8)\n",
    "plt.legend()\n",
    "plt.show()"
   ]
  },
  {
   "cell_type": "code",
   "execution_count": 150,
   "metadata": {},
   "outputs": [
    {
     "data": {
      "image/png": "[encoded data removed]",
      "text/plain": [
       "<Figure size 432x288 with 1 Axes>"
      ]
     },
     "metadata": {
      "needs_background": "light"
     },
     "output_type": "display_data"
    }
   ],
   "source": [
    "# for _, val in hyp_var_2.items():\n",
    "plt.scatter(np.arange(len(hyp_var_type1)), np.array(hyp_var_type1)[:, 0], label='type_1', marker='o')\n",
    "plt.scatter(np.arange(len(hyp_var_type2)), np.array(hyp_var_type2)[:, 0], label='type_2', marker='o')\n",
    "# plt.scatter(np.array(hyp_var_2.values())[:, 0], label='type_2', marker='o')\n",
    "#     plt.scatter(val[:, 0], label='mean', marker='o')\n",
    "# plt.xticks(np.arange(0, 10), size=8)\n",
    "# plt.yticks(np.arange(0, 0.5, 0.05), size=8)\n",
    "plt.legend()\n",
    "plt.show()"
   ]
  },
  {
   "cell_type": "code",
   "execution_count": 151,
   "metadata": {},
   "outputs": [
    {
     "data": {
      "image/png": "[encoded data removed]",
      "text/plain": [
       "<Figure size 432x288 with 1 Axes>"
      ]
     },
     "metadata": {
      "needs_background": "light"
     },
     "output_type": "display_data"
    }
   ],
   "source": [
    "# for _, val in hyp_var_2.items():\n",
    "plt.scatter(np.arange(len(hyp_var_type1)), np.array(hyp_var_type1)[:, 1], label='type_1', marker='o')\n",
    "plt.scatter(np.arange(len(hyp_var_type2)), np.array(hyp_var_type2)[:, 1], label='type_2', marker='o')\n",
    "# plt.scatter(np.array(hyp_var_2.values())[:, 0], label='type_2', marker='o')\n",
    "#     plt.scatter(val[:, 0], label='mean', marker='o')\n",
    "# plt.xticks(np.arange(0, 10), size=8)\n",
    "# plt.yticks(np.arange(0, 0.5, 0.05), size=8)\n",
    "plt.legend()\n",
    "plt.show()"
   ]
  },
  {
   "cell_type": "code",
   "execution_count": 146,
   "metadata": {},
   "outputs": [],
   "source": [
    "hyp_var_type2 = []\n",
    "for base in sigma_base:\n",
    "    for ratio in sigma_ratio:\n",
    "        hyp_var_type2.append(hyp_var_2[base][ratio])"
   ]
  }
 ],
 "metadata": {
  "kernelspec": {
   "display_name": "Python [conda env:root] *",
   "language": "python",
   "name": "conda-root-py"
  },
  "language_info": {
   "codemirror_mode": {
    "name": "ipython",
    "version": 3
   },
   "file_extension": ".py",
   "mimetype": "text/x-python",
   "name": "python",
   "nbconvert_exporter": "python",
   "pygments_lexer": "ipython3",
   "version": "3.7.4"
  }
 },
 "nbformat": 4,
 "nbformat_minor": 4
}
