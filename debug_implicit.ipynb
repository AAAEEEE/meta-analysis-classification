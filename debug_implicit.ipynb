{
 "cells": [
  {
   "cell_type": "code",
   "execution_count": 1,
   "metadata": {},
   "outputs": [],
   "source": [
    "import math\n",
    "import numpy as np\n",
    "import torch\n",
    "import torch.nn.functional as F\n",
    "from sklearn.linear_model import LogisticRegression\n",
    "from scipy.special import softmax\n",
    "\n",
    "import warnings\n",
    "from sklearn.exceptions import ConvergenceWarning\n",
    "warnings.simplefilter(\"always\", ConvergenceWarning)"
   ]
  },
  {
   "cell_type": "code",
   "execution_count": 2,
   "metadata": {},
   "outputs": [],
   "source": [
    "from maml.datasets.miniimagenet import MiniimagenetMetaDataset\n",
    "from maml.models.gated_conv_net import ImpRegConvModel\n",
    "from maml.models.conv_embedding_model import RegConvEmbeddingModel\n",
    "from maml.logistic_regression_utils import logistic_regression_grad_with_respect_to_w, logistic_regression_hessian_pieces_with_respect_to_w, logistic_regression_hessian_with_respect_to_w, logistic_regression_mixed_derivatives_with_respect_to_w_then_to_X"
   ]
  },
  {
   "cell_type": "code",
   "execution_count": 3,
   "metadata": {},
   "outputs": [
    {
     "name": "stdout",
     "output_type": "stream",
     "text": [
      "MiniImagenet train\n"
     ]
    }
   ],
   "source": [
    "modulation_mat_rank = 32\n",
    "num_channels = 32\n",
    "dataset = MiniimagenetMetaDataset(\n",
    "    root='data',\n",
    "    img_side_len=84,\n",
    "    num_classes_per_batch=5,\n",
    "    num_samples_per_class=5,\n",
    "    num_total_batches=5,\n",
    "    num_val_samples=5,\n",
    "    meta_batch_size=2,\n",
    "    split='train',\n",
    "    num_workers=4,\n",
    "    device='cuda')\n",
    "model = ImpRegConvModel(\n",
    "        input_channels=dataset.input_size[0],\n",
    "        output_size=dataset.output_size,\n",
    "        num_channels=num_channels,\n",
    "        modulation_mat_rank=modulation_mat_rank,\n",
    "        img_side_len=dataset.input_size[1],\n",
    "        use_max_pool=False,\n",
    "        verbose=False)"
   ]
  },
  {
   "cell_type": "code",
   "execution_count": 4,
   "metadata": {},
   "outputs": [],
   "source": [
    "modulation_mat_size = (modulation_mat_rank, num_channels*8)\n",
    "embedding_hidden_size = 256\n",
    "embedding_num_layers = 2\n",
    "num_conv_embedding_layer = 4\n",
    "\n",
    "embedding_model = RegConvEmbeddingModel(\n",
    "             input_size=np.prod(dataset.input_size),\n",
    "             output_size=dataset.output_size,\n",
    "             modulation_mat_size=modulation_mat_size,\n",
    "             hidden_size=embedding_hidden_size,\n",
    "             num_layers=embedding_num_layers,\n",
    "             convolutional=True,\n",
    "             num_conv=num_conv_embedding_layer,\n",
    "             num_channels=num_channels,\n",
    "             rnn_aggregation=False,\n",
    "             linear_before_rnn=False,\n",
    "             embedding_pooling='max',\n",
    "             batch_norm=True,\n",
    "             avgpool_after_conv=True,\n",
    "             num_sample_embedding=0,\n",
    "             sample_embedding_file='abcdf',\n",
    "             img_size=dataset.input_size,\n",
    "             verbose=False,\n",
    "             original_conv=False,\n",
    "             modulation_mat_spec_norm = 10000)"
   ]
  },
  {
   "cell_type": "code",
   "execution_count": 5,
   "metadata": {},
   "outputs": [],
   "source": [
    "slow_lr = 0.001\n",
    "optimizer_specs = \\\n",
    "        [{'params': model.parameters(), 'lr': slow_lr},\n",
    "         {'params': embedding_model.parameters(), 'lr': slow_lr}]"
   ]
  },
  {
   "cell_type": "code",
   "execution_count": 6,
   "metadata": {},
   "outputs": [],
   "source": [
    "l2_lambda = 2"
   ]
  },
  {
   "cell_type": "code",
   "execution_count": 7,
   "metadata": {},
   "outputs": [
    {
     "data": {
      "text/plain": [
       "ImpRegConvModel(\n",
       "  (features): Sequential(\n",
       "    (layer1_conv): Conv2d(3, 32, kernel_size=(3, 3), stride=(2, 2), padding=(1, 1))\n",
       "    (layer1_bn): BatchNorm2d(32, eps=1e-05, momentum=0.001, affine=False, track_running_stats=True)\n",
       "    (layer1_relu): ReLU(inplace=True)\n",
       "    (layer2_conv): Conv2d(32, 64, kernel_size=(3, 3), stride=(2, 2), padding=(1, 1))\n",
       "    (layer2_bn): BatchNorm2d(64, eps=1e-05, momentum=0.001, affine=False, track_running_stats=True)\n",
       "    (layer2_relu): ReLU(inplace=True)\n",
       "    (layer3_conv): Conv2d(64, 128, kernel_size=(3, 3), stride=(2, 2), padding=(1, 1))\n",
       "    (layer3_bn): BatchNorm2d(128, eps=1e-05, momentum=0.001, affine=False, track_running_stats=True)\n",
       "    (layer3_relu): ReLU(inplace=True)\n",
       "    (layer4_conv): Conv2d(128, 256, kernel_size=(3, 3), stride=(2, 2), padding=(1, 1))\n",
       "    (layer4_bn): BatchNorm2d(256, eps=1e-05, momentum=0.001, affine=False, track_running_stats=True)\n",
       "    (layer4_relu): ReLU(inplace=True)\n",
       "  )\n",
       ")"
      ]
     },
     "execution_count": 7,
     "metadata": {},
     "output_type": "execute_result"
    }
   ],
   "source": [
    "model.to('cuda')"
   ]
  },
  {
   "cell_type": "code",
   "execution_count": 8,
   "metadata": {},
   "outputs": [
    {
     "data": {
      "text/plain": [
       "2"
      ]
     },
     "execution_count": 8,
     "metadata": {},
     "output_type": "execute_result"
    }
   ],
   "source": [
    "l2_lambda"
   ]
  },
  {
   "cell_type": "code",
   "execution_count": 9,
   "metadata": {},
   "outputs": [],
   "source": [
    "embedding_model.to('cuda')"
   ]
  },
  {
   "cell_type": "code",
   "execution_count": 10,
   "metadata": {},
   "outputs": [],
   "source": [
    "for train_task_batch, test_task_batch in iter(dataset):\n",
    "    break"
   ]
  },
  {
   "cell_type": "code",
   "execution_count": 11,
   "metadata": {},
   "outputs": [],
   "source": [
    "train_task = train_task_batch[0]"
   ]
  },
  {
   "cell_type": "code",
   "execution_count": 12,
   "metadata": {},
   "outputs": [],
   "source": [
    "modulation = embedding_model(train_task, return_task_embedding=False)"
   ]
  },
  {
   "cell_type": "code",
   "execution_count": 13,
   "metadata": {},
   "outputs": [],
   "source": [
    "# old_params = model.classifier['fully_connected'].weight.cuda()\n",
    "features = model(\n",
    "    train_task.x, modulation=modulation)"
   ]
  },
  {
   "cell_type": "code",
   "execution_count": 14,
   "metadata": {},
   "outputs": [
    {
     "data": {
      "text/plain": [
       "torch.Size([25, 33])"
      ]
     },
     "execution_count": 14,
     "metadata": {},
     "output_type": "execute_result"
    }
   ],
   "source": [
    "features.shape"
   ]
  },
  {
   "cell_type": "code",
   "execution_count": 15,
   "metadata": {},
   "outputs": [],
   "source": [
    "X_train = features.detach().cpu().numpy()\n",
    "y_train = (train_task.y).cpu().numpy()"
   ]
  },
  {
   "cell_type": "code",
   "execution_count": 16,
   "metadata": {},
   "outputs": [],
   "source": [
    "with warnings.catch_warnings(record=True) as w:\n",
    "    lr_model = LogisticRegression(solver='lbfgs', penalty='l2', \n",
    "        C=1/(l2_lambda), #????????????????????????????????????????\n",
    "        tol=1e-6, max_iter=100,\n",
    "        multi_class='multinomial', fit_intercept=False)\n",
    "    lr_model.fit(X_train, y_train)"
   ]
  },
  {
   "cell_type": "code",
   "execution_count": 17,
   "metadata": {},
   "outputs": [
    {
     "data": {
      "text/plain": [
       "array([0, 0, 0, 0, 0, 1, 1, 2, 1, 1, 4, 4, 4, 4, 4, 2, 2, 2, 2, 2, 3, 3,\n",
       "       3, 3, 3])"
      ]
     },
     "execution_count": 17,
     "metadata": {},
     "output_type": "execute_result"
    }
   ],
   "source": [
    "lr_model.predict(X_train)"
   ]
  },
  {
   "cell_type": "code",
   "execution_count": 18,
   "metadata": {},
   "outputs": [
    {
     "data": {
      "text/plain": [
       "array([0, 0, 0, 0, 0, 1, 1, 1, 1, 1, 4, 4, 4, 4, 4, 2, 2, 2, 2, 2, 3, 3,\n",
       "       3, 3, 3])"
      ]
     },
     "execution_count": 18,
     "metadata": {},
     "output_type": "execute_result"
    }
   ],
   "source": [
    "y_train"
   ]
  },
  {
   "cell_type": "code",
   "execution_count": 19,
   "metadata": {},
   "outputs": [],
   "source": [
    "w = lr_model.coef_.astype('float32')"
   ]
  },
  {
   "cell_type": "code",
   "execution_count": 20,
   "metadata": {},
   "outputs": [
    {
     "data": {
      "text/plain": [
       "dtype('float32')"
      ]
     },
     "execution_count": 20,
     "metadata": {},
     "output_type": "execute_result"
    }
   ],
   "source": [
    "w.dtype"
   ]
  },
  {
   "cell_type": "code",
   "execution_count": 21,
   "metadata": {},
   "outputs": [],
   "source": [
    "inner_loss_func = torch.nn.CrossEntropyLoss()"
   ]
  },
  {
   "cell_type": "code",
   "execution_count": 22,
   "metadata": {},
   "outputs": [],
   "source": [
    "grad_train_np = logistic_regression_grad_with_respect_to_w(X_train, y_train, w)"
   ]
  },
  {
   "cell_type": "code",
   "execution_count": 23,
   "metadata": {},
   "outputs": [
    {
     "data": {
      "text/plain": [
       "dtype('float64')"
      ]
     },
     "execution_count": 23,
     "metadata": {},
     "output_type": "execute_result"
    }
   ],
   "source": [
    "grad_train_np.dtype"
   ]
  },
  {
   "cell_type": "code",
   "execution_count": 24,
   "metadata": {},
   "outputs": [],
   "source": [
    "hessian_np = logistic_regression_hessian_with_respect_to_w(X_train, y_train, w)"
   ]
  },
  {
   "cell_type": "code",
   "execution_count": 25,
   "metadata": {},
   "outputs": [],
   "source": [
    "def compute_hessian(X, y, w):\n",
    "    lr_hessian = logistic_regression_hessian_with_respect_to_w(X, y, w)\n",
    "    hessian = lr_hessian + l2_lambda * np.eye(lr_hessian.shape[0])\n",
    "    return hessian"
   ]
  },
  {
   "cell_type": "code",
   "execution_count": 36,
   "metadata": {},
   "outputs": [],
   "source": [
    "def compute_inverse_hessian(X, y, w):\n",
    "    diag, Xbar = logistic_regression_hessian_pieces_with_respect_to_w(X, y, w)\n",
    "    pre_inv = np.matmul(Xbar, Xbar.T) + l2_lambda * np.diag(np.reciprocal(diag))\n",
    "    inv = np.linalg.inv(pre_inv)\n",
    "    return 1 / l2_lambda * (np.eye(Xbar.shape[1]) - np.matmul(np.matmul(Xbar.T, inv), Xbar))"
   ]
  },
  {
   "cell_type": "code",
   "execution_count": 37,
   "metadata": {},
   "outputs": [],
   "source": [
    "hessian_plus_np = compute_hessian(X_train, y_train, w)"
   ]
  },
  {
   "cell_type": "code",
   "execution_count": 38,
   "metadata": {},
   "outputs": [],
   "source": [
    "hessian_inv_np = compute_inverse_hessian(X_train, y_train, w)"
   ]
  },
  {
   "cell_type": "code",
   "execution_count": 62,
   "metadata": {},
   "outputs": [],
   "source": [
    "import timeit\n",
    "start_time = timeit.default_timer()\n",
    "# code you want to evaluate\n",
    "for i in range(1000):\n",
    "    hessian_plus_np = compute_hessian(X_train, y_train, w)\n",
    "elapsed = timeit.default_timer() - start_time"
   ]
  },
  {
   "cell_type": "code",
   "execution_count": 63,
   "metadata": {},
   "outputs": [
    {
     "data": {
      "text/plain": [
       "2.7932463879697025"
      ]
     },
     "execution_count": 63,
     "metadata": {},
     "output_type": "execute_result"
    }
   ],
   "source": [
    "elapsed"
   ]
  },
  {
   "cell_type": "code",
   "execution_count": 27,
   "metadata": {},
   "outputs": [],
   "source": [
    "J = logistic_regression_mixed_derivatives_with_respect_to_w_then_to_X(X_train, y_train, w)"
   ]
  },
  {
   "cell_type": "code",
   "execution_count": 72,
   "metadata": {},
   "outputs": [],
   "source": [
    "import timeit\n",
    "start_time = timeit.default_timer()\n",
    "# code you want to evaluate\n",
    "for i in range(1000):\n",
    "    J = logistic_regression_mixed_derivatives_with_respect_to_w_then_to_X(X_train, y_train, w)\n",
    "elapsed = timeit.default_timer() - start_time"
   ]
  },
  {
   "cell_type": "code",
   "execution_count": 73,
   "metadata": {},
   "outputs": [
    {
     "data": {
      "text/plain": [
       "2.5134298340417445"
      ]
     },
     "execution_count": 73,
     "metadata": {},
     "output_type": "execute_result"
    }
   ],
   "source": [
    "elapsed"
   ]
  },
  {
   "cell_type": "code",
   "execution_count": 40,
   "metadata": {},
   "outputs": [],
   "source": [
    "adapted_params = torch.tensor(w, requires_grad=True, device='cuda', dtype=torch.float32)"
   ]
  },
  {
   "cell_type": "code",
   "execution_count": 41,
   "metadata": {},
   "outputs": [
    {
     "data": {
      "text/plain": [
       "torch.Size([5, 33])"
      ]
     },
     "execution_count": 41,
     "metadata": {},
     "output_type": "execute_result"
    }
   ],
   "source": [
    "adapted_params.shape"
   ]
  },
  {
   "cell_type": "code",
   "execution_count": 42,
   "metadata": {},
   "outputs": [],
   "source": [
    "features = model(train_task.x, modulation=modulation)\n",
    "preds = F.linear(features, weight=adapted_params)\n",
    "loss = inner_loss_func(preds, train_task.y)\n",
    "l2_loss = 0.5 * l2_lambda * adapted_params.pow(2).sum()\n",
    "loss += l2_loss\n",
    "grad = torch.autograd.grad(loss, adapted_params,\n",
    "            create_graph=True, allow_unused=False)[0]\n",
    "grad = grad.flatten()\n",
    "hessian = torch.zeros((len(grad), len(grad)), device=grad.device)\n",
    "for i, g in enumerate(grad):\n",
    "    hessian[i, :] = torch.autograd.grad(g, adapted_params,\n",
    "            create_graph=False, allow_unused=False, retain_graph=True)[0].flatten()"
   ]
  },
  {
   "cell_type": "code",
   "execution_count": 47,
   "metadata": {},
   "outputs": [],
   "source": [
    "hessian_inv_torch = np.linalg.inv(hessian.cpu().numpy())"
   ]
  },
  {
   "cell_type": "code",
   "execution_count": 46,
   "metadata": {},
   "outputs": [
    {
     "data": {
      "text/plain": [
       "array([[ 4.95125784e-01, -7.52294066e-03,  3.63468205e-03, ...,\n",
       "         2.89681807e-04, -3.36625560e-04,  4.32487057e-04],\n",
       "       [-7.52294066e-03,  4.83586179e-01,  1.43760154e-02, ...,\n",
       "         6.03345372e-04, -2.68417652e-03,  1.64819377e-03],\n",
       "       [ 3.63468205e-03,  1.43760154e-02,  4.62696923e-01, ...,\n",
       "         8.15952512e-05,  7.22851534e-03, -3.52438023e-03],\n",
       "       ...,\n",
       "       [ 2.89681807e-04,  6.03345372e-04,  8.15952512e-05, ...,\n",
       "         4.98344866e-01,  5.48840585e-04, -3.72843121e-04],\n",
       "       [-3.36625560e-04, -2.68417652e-03,  7.22851534e-03, ...,\n",
       "         5.48840585e-04,  4.77964077e-01,  9.66437798e-03],\n",
       "       [ 4.32487057e-04,  1.64819377e-03, -3.52438023e-03, ...,\n",
       "        -3.72843121e-04,  9.66437798e-03,  4.95006958e-01]])"
      ]
     },
     "execution_count": 46,
     "metadata": {},
     "output_type": "execute_result"
    }
   ],
   "source": [
    "hessian_inv_np"
   ]
  },
  {
   "cell_type": "code",
   "execution_count": 48,
   "metadata": {},
   "outputs": [
    {
     "data": {
      "text/plain": [
       "True"
      ]
     },
     "execution_count": 48,
     "metadata": {},
     "output_type": "execute_result"
    }
   ],
   "source": [
    "np.allclose(hessian_inv_np, hessian_inv_torch)"
   ]
  },
  {
   "cell_type": "code",
   "execution_count": 31,
   "metadata": {},
   "outputs": [
    {
     "data": {
      "text/plain": [
       "tensor([ 0.0033, -0.0122,  0.0302,  0.0275,  0.0123], device='cuda:0',\n",
       "       grad_fn=<SliceBackward>)"
      ]
     },
     "execution_count": 31,
     "metadata": {},
     "output_type": "execute_result"
    }
   ],
   "source": [
    "grad[0:5]"
   ]
  },
  {
   "cell_type": "code",
   "execution_count": 34,
   "metadata": {},
   "outputs": [
    {
     "data": {
      "text/plain": [
       "array([[ 0.00329743],\n",
       "       [-0.01223877],\n",
       "       [ 0.0302425 ],\n",
       "       [ 0.02748611],\n",
       "       [ 0.01225669]])"
      ]
     },
     "execution_count": 34,
     "metadata": {},
     "output_type": "execute_result"
    }
   ],
   "source": [
    "grad_train_np[0:5]"
   ]
  },
  {
   "cell_type": "code",
   "execution_count": 41,
   "metadata": {
    "collapsed": true,
    "jupyter": {
     "outputs_hidden": true
    }
   },
   "outputs": [
    {
     "data": {
      "text/plain": [
       "array([ 0.00591992,  0.02018611, -0.00332831,  0.01221107, -0.00989707,\n",
       "       -0.00665452, -0.00427102,  0.00209346,  0.0188704 ,  0.00428703,\n",
       "        0.02503378, -0.01275739,  0.00223187, -0.01503066, -0.01725799,\n",
       "       -0.01338011, -0.01882041,  0.01353167,  0.00534762, -0.01243102,\n",
       "        0.00300622, -0.00950503, -0.00042133,  0.00139931,  0.00658771,\n",
       "        0.01399224,  0.00953464,  0.00361797, -0.00010538,  0.00686106,\n",
       "       -0.0063331 ,  0.01616079, -0.00341326, -0.01052228, -0.00745031,\n",
       "       -0.01869466, -0.00649654,  0.00804677, -0.02489412,  0.01540469,\n",
       "       -0.00150601,  0.00556058,  0.01468306, -0.03200147, -0.00252593,\n",
       "       -0.0136926 ,  0.02515369,  0.02822851,  0.00720127, -0.01135744,\n",
       "       -0.01292115, -0.006658  ,  0.01473373, -0.01669471, -0.02117098,\n",
       "        0.0052648 , -0.01185602,  0.01252566, -0.01869623,  0.00397442,\n",
       "        0.01526202,  0.00440582,  0.01276253,  0.03437793, -0.00895927,\n",
       "        0.00324804,  0.01153268,  0.0210702 ,  0.00449139, -0.01395064,\n",
       "        0.00630701, -0.01291714, -0.00961299, -0.00060857, -0.02801905,\n",
       "       -0.01925663,  0.02220364,  0.00376546, -0.0047734 ,  0.00267324,\n",
       "       -0.00028576, -0.00711738, -0.00484632,  0.02404234, -0.03118015,\n",
       "        0.01247616,  0.01885387,  0.01843745, -0.00716966, -0.00886956,\n",
       "       -0.00316018,  0.00350745, -0.02069855, -0.01384271, -0.00216686,\n",
       "        0.02435728, -0.01253914, -0.00725117, -0.0033343 ,  0.0088516 ,\n",
       "       -0.01748759,  0.02811954, -0.00903073,  0.00298688,  0.00521022,\n",
       "       -0.01403115, -0.00863539,  0.02089927,  0.00786857, -0.00444391,\n",
       "        0.02931431,  0.01061065, -0.00315702,  0.00169664, -0.0139797 ,\n",
       "        0.02851808, -0.02418352,  0.02816314,  0.01615681, -0.00739078,\n",
       "        0.00769765,  0.00111856,  0.00810689, -0.02802188, -0.00656043,\n",
       "        0.00582271, -0.00883694, -0.00464707, -0.05481442, -0.01452936,\n",
       "       -0.00019597, -0.00155734, -0.01578192, -0.01631842, -0.01058795,\n",
       "        0.01726688, -0.00744358,  0.03925556,  0.01251044,  0.00865652,\n",
       "       -0.01731123, -0.00758205, -0.01079203, -0.01779649,  0.00562345,\n",
       "       -0.00963925, -0.01238142,  0.0272759 ,  0.0065061 , -0.00046934,\n",
       "        0.00432737, -0.0309357 ,  0.00222544,  0.00454092,  0.00120764,\n",
       "        0.01121937,  0.0120687 ,  0.00775698,  0.00136675,  0.00379965,\n",
       "        0.00251349,  0.01083357, -0.00097635,  0.00024563,  0.00505686],\n",
       "      dtype=float32)"
      ]
     },
     "execution_count": 41,
     "metadata": {},
     "output_type": "execute_result"
    }
   ],
   "source": [
    "grad.detach().cpu().numpy()"
   ]
  },
  {
   "cell_type": "code",
   "execution_count": 37,
   "metadata": {},
   "outputs": [
    {
     "data": {
      "text/plain": [
       "torch.Size([165])"
      ]
     },
     "execution_count": 37,
     "metadata": {},
     "output_type": "execute_result"
    }
   ],
   "source": [
    "grad.shape"
   ]
  },
  {
   "cell_type": "code",
   "execution_count": 40,
   "metadata": {},
   "outputs": [
    {
     "data": {
      "text/plain": [
       "2.5928020477156144e-08"
      ]
     },
     "execution_count": 40,
     "metadata": {},
     "output_type": "execute_result"
    }
   ],
   "source": [
    "np.max(np.absolute(grad.detach().cpu().numpy() - grad_train_np.reshape(-1)))"
   ]
  },
  {
   "cell_type": "code",
   "execution_count": 42,
   "metadata": {},
   "outputs": [
    {
     "data": {
      "text/plain": [
       "True"
      ]
     },
     "execution_count": 42,
     "metadata": {},
     "output_type": "execute_result"
    }
   ],
   "source": [
    "np.allclose(grad.detach().cpu().numpy(), grad_train_np.astype('float32').reshape(-1), atol=1e-07)"
   ]
  },
  {
   "cell_type": "code",
   "execution_count": 31,
   "metadata": {},
   "outputs": [
    {
     "data": {
      "text/plain": [
       "tensor([[ 2.0337e+00, -6.0700e-02, -3.9558e-02,  ..., -1.0019e-02,\n",
       "         -6.8389e-04,  8.9997e-03],\n",
       "        [-6.0700e-02,  2.1627e+00,  8.4909e-02,  ...,  2.7004e-02,\n",
       "          2.4767e-03, -2.4367e-02],\n",
       "        [-3.9558e-02,  8.4909e-02,  2.0593e+00,  ...,  1.3750e-02,\n",
       "          1.5693e-03, -1.2251e-02],\n",
       "        ...,\n",
       "        [-1.0019e-02,  2.7004e-02,  1.3750e-02,  ...,  2.2125e+00,\n",
       "          3.2489e-02, -1.5025e-01],\n",
       "        [-6.8389e-04,  2.4767e-03,  1.5693e-03,  ...,  3.2489e-02,\n",
       "          2.0155e+00, -1.5087e-02],\n",
       "        [ 8.9997e-03, -2.4367e-02, -1.2251e-02,  ..., -1.5025e-01,\n",
       "         -1.5087e-02,  2.1267e+00]], device='cuda:0')"
      ]
     },
     "execution_count": 31,
     "metadata": {},
     "output_type": "execute_result"
    }
   ],
   "source": [
    "hessian"
   ]
  },
  {
   "cell_type": "code",
   "execution_count": 32,
   "metadata": {},
   "outputs": [
    {
     "data": {
      "text/plain": [
       "array([[ 2.03370837e+00, -6.07003793e-02, -3.95580381e-02, ...,\n",
       "        -1.00186933e-02, -6.83893100e-04,  8.99971649e-03],\n",
       "       [-6.07003793e-02,  2.16272883e+00,  8.49091783e-02, ...,\n",
       "         2.70038396e-02,  2.47674948e-03, -2.43674032e-02],\n",
       "       [-3.95580381e-02,  8.49091783e-02,  2.05930830e+00, ...,\n",
       "         1.37496665e-02,  1.56932708e-03, -1.22508816e-02],\n",
       "       ...,\n",
       "       [-1.00186933e-02,  2.70038396e-02,  1.37496665e-02, ...,\n",
       "         2.21252878e+00,  3.24894302e-02, -1.50252208e-01],\n",
       "       [-6.83893100e-04,  2.47674948e-03,  1.56932708e-03, ...,\n",
       "         3.24894302e-02,  2.01554430e+00, -1.50870504e-02],\n",
       "       [ 8.99971649e-03, -2.43674032e-02, -1.22508816e-02, ...,\n",
       "        -1.50252208e-01, -1.50870504e-02,  2.12672566e+00]])"
      ]
     },
     "execution_count": 32,
     "metadata": {},
     "output_type": "execute_result"
    }
   ],
   "source": [
    "hessian_plus_np"
   ]
  },
  {
   "cell_type": "code",
   "execution_count": 59,
   "metadata": {},
   "outputs": [
    {
     "data": {
      "text/plain": [
       "True"
      ]
     },
     "execution_count": 59,
     "metadata": {},
     "output_type": "execute_result"
    }
   ],
   "source": [
    "np.allclose(hessian.cpu().numpy(), hessian_plus_np)"
   ]
  },
  {
   "cell_type": "code",
   "execution_count": 62,
   "metadata": {},
   "outputs": [],
   "source": [
    "features = model(train_task.x, modulation=modulation)\n",
    "preds = F.linear(features, weight=adapted_params)\n",
    "loss = inner_loss_func(preds, train_task.y)\n",
    "l2_loss = 0.5 * l2_lambda * adapted_params.pow(2).sum()\n",
    "loss += l2_loss\n",
    "grad = torch.autograd.grad(loss, adapted_params,\n",
    "            create_graph=True, allow_unused=False)[0]\n",
    "grad = grad.flatten()\n",
    "mixed_partial = torch.zeros((len(grad), features.shape[0] * features.shape[1]), device=grad.device)\n",
    "for i, y in enumerate(grad):\n",
    "    mixed_partial[i, :] = torch.autograd.grad(y, features,\n",
    "            create_graph=False, allow_unused=False, retain_graph=True)[0].flatten()"
   ]
  },
  {
   "cell_type": "code",
   "execution_count": 64,
   "metadata": {},
   "outputs": [
    {
     "data": {
      "text/plain": [
       "array([[ 3.9498000e-03,  1.6587512e-05, -2.9598630e-05, ...,\n",
       "         1.3377637e-04,  1.3570306e-04,  1.5941454e-05],\n",
       "       [-7.7196601e-04,  4.7613578e-03, -1.4194131e-03, ...,\n",
       "        -2.6781455e-04, -2.7167171e-04, -3.1914107e-05],\n",
       "       [-6.8175641e-04,  7.0250512e-04,  2.7123529e-03, ...,\n",
       "        -4.5628636e-04, -4.6285798e-04, -5.4373344e-05],\n",
       "       ...,\n",
       "       [ 7.4577914e-04, -3.5770357e-04,  1.6076142e-07, ...,\n",
       "         4.5776856e-03,  1.1610718e-04,  1.0581916e-04],\n",
       "       [-1.0331367e-03,  4.9553101e-04, -2.2270470e-07, ...,\n",
       "        -5.2922819e-04,  4.0567494e-03, -1.6449738e-04],\n",
       "       [ 3.2615627e-03, -1.5643676e-03,  7.0306800e-07, ...,\n",
       "         3.9397739e-04,  1.3436373e-04,  4.3596979e-03]], dtype=float32)"
      ]
     },
     "execution_count": 64,
     "metadata": {},
     "output_type": "execute_result"
    }
   ],
   "source": [
    "J"
   ]
  },
  {
   "cell_type": "code",
   "execution_count": 65,
   "metadata": {},
   "outputs": [
    {
     "data": {
      "text/plain": [
       "array([[ 3.9497991e-03,  1.6587504e-05, -2.9598619e-05, ...,\n",
       "         1.3377628e-04,  1.3570298e-04,  1.5941445e-05],\n",
       "       [-7.7196554e-04,  4.7613564e-03, -1.4194124e-03, ...,\n",
       "        -2.6781438e-04, -2.7167154e-04, -3.1914093e-05],\n",
       "       [-6.8175606e-04,  7.0250488e-04,  2.7123522e-03, ...,\n",
       "        -4.5628616e-04, -4.6285772e-04, -5.4373311e-05],\n",
       "       ...,\n",
       "       [ 7.4577925e-04, -3.5770357e-04,  1.6068952e-07, ...,\n",
       "         4.5776824e-03,  1.1610711e-04,  1.0581909e-04],\n",
       "       [-1.0331367e-03,  4.9553096e-04, -2.2263339e-07, ...,\n",
       "        -5.2922789e-04,  4.0567461e-03, -1.6449727e-04],\n",
       "       [ 3.2615629e-03, -1.5643674e-03,  7.0287206e-07, ...,\n",
       "         3.9397710e-04,  1.3436365e-04,  4.3596942e-03]], dtype=float32)"
      ]
     },
     "execution_count": 65,
     "metadata": {},
     "output_type": "execute_result"
    }
   ],
   "source": [
    " mixed_partial.cpu().numpy()"
   ]
  },
  {
   "cell_type": "code",
   "execution_count": 63,
   "metadata": {},
   "outputs": [
    {
     "data": {
      "text/plain": [
       "True"
      ]
     },
     "execution_count": 63,
     "metadata": {},
     "output_type": "execute_result"
    }
   ],
   "source": [
    "np.allclose(J, mixed_partial.cpu().numpy())"
   ]
  },
  {
   "cell_type": "code",
   "execution_count": 45,
   "metadata": {
    "collapsed": true,
    "jupyter": {
     "outputs_hidden": true
    }
   },
   "outputs": [
    {
     "data": {
      "text/plain": [
       "tensor([[0.1292, 0.1574, 0.2472, 0.1614, 0.3048],\n",
       "        [0.1900, 0.1465, 0.1348, 0.2250, 0.3036],\n",
       "        [0.1009, 0.1636, 0.2977, 0.0941, 0.3436],\n",
       "        [0.0937, 0.0276, 0.0756, 0.1945, 0.6086],\n",
       "        [0.1112, 0.0810, 0.0660, 0.2441, 0.4977],\n",
       "        [0.2215, 0.0707, 0.3801, 0.1587, 0.1690],\n",
       "        [0.1064, 0.1202, 0.5492, 0.1128, 0.1113],\n",
       "        [0.0899, 0.1706, 0.3484, 0.1766, 0.2144],\n",
       "        [0.0413, 0.2350, 0.5711, 0.0413, 0.1113],\n",
       "        [0.1816, 0.1038, 0.3439, 0.1960, 0.1746],\n",
       "        [0.2108, 0.1655, 0.1266, 0.3371, 0.1600],\n",
       "        [0.1711, 0.0625, 0.0424, 0.5011, 0.2228],\n",
       "        [0.2685, 0.0962, 0.1753, 0.2987, 0.1613],\n",
       "        [0.0669, 0.2088, 0.1623, 0.4196, 0.1424],\n",
       "        [0.1508, 0.1588, 0.1939, 0.2596, 0.2370],\n",
       "        [0.4489, 0.2715, 0.0448, 0.1507, 0.0840],\n",
       "        [0.4626, 0.0360, 0.1035, 0.2422, 0.1557],\n",
       "        [0.6012, 0.0507, 0.1419, 0.1091, 0.0971],\n",
       "        [0.1886, 0.1481, 0.1489, 0.2232, 0.2912],\n",
       "        [0.5540, 0.0600, 0.2184, 0.1101, 0.0575],\n",
       "        [0.0613, 0.5886, 0.1851, 0.0730, 0.0920],\n",
       "        [0.0996, 0.4731, 0.0597, 0.1705, 0.1972],\n",
       "        [0.2616, 0.4667, 0.1356, 0.0900, 0.0462],\n",
       "        [0.0138, 0.6427, 0.1080, 0.1568, 0.0786],\n",
       "        [0.1313, 0.2783, 0.1897, 0.2020, 0.1987]], dtype=torch.float64)"
      ]
     },
     "execution_count": 45,
     "metadata": {},
     "output_type": "execute_result"
    }
   ],
   "source": [
    "p"
   ]
  },
  {
   "cell_type": "code",
   "execution_count": 39,
   "metadata": {
    "collapsed": true,
    "jupyter": {
     "outputs_hidden": true
    }
   },
   "outputs": [
    {
     "data": {
      "text/plain": [
       "tensor([[ 1.0375e-02,  3.2603e-03, -2.7199e-02,  2.7819e-03, -5.3182e-03,\n",
       "         -1.6668e-02, -4.1722e-03, -5.9818e-03,  3.1078e-02, -1.2360e-02,\n",
       "          6.0025e-03, -1.4896e-03,  2.0239e-02,  2.7659e-02,  1.2721e-02,\n",
       "         -1.8344e-02,  1.4714e-02, -1.6974e-02, -2.1356e-03,  1.7683e-02,\n",
       "          2.8527e-02, -1.0274e-03,  6.9201e-05,  3.7571e-03,  1.7770e-02,\n",
       "         -2.7123e-02, -1.8309e-02, -1.6115e-02,  9.3267e-03, -2.0881e-02,\n",
       "         -2.1858e-02, -1.2520e-02, -1.7136e-03],\n",
       "        [-1.2586e-03, -9.6823e-03,  3.2016e-02, -2.6150e-03,  2.0836e-02,\n",
       "          4.2606e-03,  6.4458e-04, -6.3008e-03, -2.8042e-04,  3.2261e-02,\n",
       "         -3.9961e-03,  2.0073e-02, -2.5400e-02, -2.7498e-02,  6.5519e-04,\n",
       "          1.3939e-02, -1.2225e-04,  5.5207e-04,  2.5551e-02, -1.0602e-02,\n",
       "         -9.1193e-03,  3.1496e-02, -1.8126e-02,  1.7192e-02, -1.5655e-02,\n",
       "         -1.0358e-02, -2.9441e-02,  8.5946e-03, -2.6201e-02,  1.4873e-02,\n",
       "         -1.9204e-02, -2.9080e-03, -6.5468e-04],\n",
       "        [-8.5722e-03,  2.7642e-02, -2.5973e-03, -1.5413e-02,  6.4863e-03,\n",
       "          8.1078e-03,  5.5306e-04,  1.1859e-02, -4.7665e-02, -4.4539e-03,\n",
       "         -7.4611e-03,  2.7973e-03,  2.9695e-03,  1.7293e-02, -1.3060e-02,\n",
       "          2.3270e-02, -5.7041e-03,  5.6508e-03, -2.6911e-03, -2.8176e-02,\n",
       "         -1.1588e-02, -6.2141e-03,  1.0941e-02, -1.5798e-02,  9.9524e-03,\n",
       "          4.5378e-03,  2.1542e-02, -1.9380e-02,  7.4752e-03,  1.7584e-03,\n",
       "          1.3993e-02, -3.1579e-02,  2.0021e-03],\n",
       "        [ 1.5142e-02, -1.3467e-02,  8.2852e-03,  1.0097e-02, -1.1747e-02,\n",
       "          2.1334e-02, -1.2569e-03,  5.4210e-03,  4.3126e-03, -7.9109e-03,\n",
       "          1.0211e-02, -1.3798e-02,  7.5033e-03,  2.0548e-03, -8.5576e-04,\n",
       "         -1.2673e-02,  2.1095e-03,  2.1402e-05,  6.7393e-03,  1.8215e-02,\n",
       "          2.1306e-02,  2.2523e-04,  1.5901e-02,  2.8478e-02, -9.5388e-03,\n",
       "          8.3609e-03,  1.9861e-02,  9.3024e-03,  1.0726e-02,  2.7930e-02,\n",
       "          7.5236e-03,  2.8524e-02, -2.0649e-03],\n",
       "        [-1.5686e-02, -7.7530e-03, -1.0505e-02,  5.1495e-03, -1.0257e-02,\n",
       "         -1.7035e-02,  4.2315e-03, -4.9970e-03,  1.2555e-02, -7.5368e-03,\n",
       "         -4.7563e-03, -7.5828e-03, -5.3122e-03, -1.9509e-02,  5.3941e-04,\n",
       "         -6.1921e-03, -1.0997e-02,  1.0749e-02, -2.7464e-02,  2.8813e-03,\n",
       "         -2.9126e-02, -2.4479e-02, -8.7843e-03, -3.3629e-02, -2.5284e-03,\n",
       "          2.4582e-02,  6.3472e-03,  1.7598e-02, -1.3271e-03, -2.3680e-02,\n",
       "          1.9545e-02,  1.8483e-02,  2.4311e-03]], device='cuda:0',\n",
       "       grad_fn=<TBackward>)"
      ]
     },
     "execution_count": 39,
     "metadata": {},
     "output_type": "execute_result"
    }
   ],
   "source": [
    "grad"
   ]
  },
  {
   "cell_type": "code",
   "execution_count": 32,
   "metadata": {},
   "outputs": [
    {
     "name": "stdout",
     "output_type": "stream",
     "text": [
      "tensor(0.8878, device='cuda:0', grad_fn=<NllLossBackward>)\n"
     ]
    }
   ],
   "source": [
    "print(loss)"
   ]
  },
  {
   "cell_type": "code",
   "execution_count": 99,
   "metadata": {},
   "outputs": [
    {
     "data": {
      "text/plain": [
       "array([[ 0.87082767, -0.15739805, -0.24721174, -0.16138791, -0.30482997],\n",
       "       [-0.12917233,  0.84260195, -0.24721174, -0.16138791, -0.30482997],\n",
       "       [-0.12917233, -0.15739805,  0.75278826, -0.16138791, -0.30482997],\n",
       "       [-0.12917233, -0.15739805, -0.24721174,  0.83861209, -0.30482997],\n",
       "       [-0.12917233, -0.15739805, -0.24721174, -0.16138791,  0.69517003]])"
      ]
     },
     "execution_count": 99,
     "metadata": {},
     "output_type": "execute_result"
    }
   ],
   "source": [
    "np.eye(5) - p[0]"
   ]
  },
  {
   "cell_type": "code",
   "execution_count": 107,
   "metadata": {},
   "outputs": [
    {
     "data": {
      "text/plain": [
       "(5, 32)"
      ]
     },
     "execution_count": 107,
     "metadata": {},
     "output_type": "execute_result"
    }
   ],
   "source": [
    "w[:,:-1].shape"
   ]
  },
  {
   "cell_type": "code",
   "execution_count": 109,
   "metadata": {},
   "outputs": [],
   "source": [
    "weighted_w = np.matmul(np.diag(p[0]), np.matmul(np.eye(5) - p[0], w[:,:-1]))"
   ]
  },
  {
   "cell_type": "code",
   "execution_count": 110,
   "metadata": {},
   "outputs": [
    {
     "data": {
      "text/plain": [
       "(5, 32)"
      ]
     },
     "execution_count": 110,
     "metadata": {},
     "output_type": "execute_result"
    }
   ],
   "source": [
    "weighted_w.shape"
   ]
  },
  {
   "cell_type": "code",
   "execution_count": 115,
   "metadata": {},
   "outputs": [
    {
     "data": {
      "text/plain": [
       "(33, 32)"
      ]
     },
     "execution_count": 115,
     "metadata": {},
     "output_type": "execute_result"
    }
   ],
   "source": [
    "np.outer(X[0], weighted_w[0]).shape"
   ]
  },
  {
   "cell_type": "code",
   "execution_count": 112,
   "metadata": {},
   "outputs": [],
   "source": [
    "X = lr_features"
   ]
  },
  {
   "cell_type": "code",
   "execution_count": 102,
   "metadata": {},
   "outputs": [],
   "source": [
    "w = lr_model.coef_"
   ]
  },
  {
   "cell_type": "code",
   "execution_count": 103,
   "metadata": {},
   "outputs": [
    {
     "data": {
      "text/plain": [
       "(5, 33)"
      ]
     },
     "execution_count": 103,
     "metadata": {},
     "output_type": "execute_result"
    }
   ],
   "source": [
    "w.shape"
   ]
  },
  {
   "cell_type": "code",
   "execution_count": 100,
   "metadata": {},
   "outputs": [
    {
     "data": {
      "text/plain": [
       "array([0.12917233, 0.15739805, 0.24721174, 0.16138791, 0.30482997])"
      ]
     },
     "execution_count": 100,
     "metadata": {},
     "output_type": "execute_result"
    }
   ],
   "source": [
    "p[0]"
   ]
  },
  {
   "cell_type": "code",
   "execution_count": 93,
   "metadata": {},
   "outputs": [],
   "source": [
    "d = 32\n",
    "I_d = np.eye(d)\n",
    "I_0 = np.concatenate((I_d, np.zeros((1, d))), axis=0)"
   ]
  },
  {
   "cell_type": "code",
   "execution_count": 94,
   "metadata": {},
   "outputs": [
    {
     "data": {
      "text/plain": [
       "(32, 32)"
      ]
     },
     "execution_count": 94,
     "metadata": {},
     "output_type": "execute_result"
    }
   ],
   "source": [
    "I_d.shape"
   ]
  },
  {
   "cell_type": "code",
   "execution_count": 96,
   "metadata": {},
   "outputs": [
    {
     "data": {
      "text/plain": [
       "(33, 32)"
      ]
     },
     "execution_count": 96,
     "metadata": {},
     "output_type": "execute_result"
    }
   ],
   "source": [
    "I_0.shape"
   ]
  },
  {
   "cell_type": "code",
   "execution_count": 89,
   "metadata": {},
   "outputs": [],
   "source": [
    "I = np.eye(p.shape[1])"
   ]
  },
  {
   "cell_type": "code",
   "execution_count": 92,
   "metadata": {},
   "outputs": [
    {
     "data": {
      "text/plain": [
       "array([[ 0.12917233,  0.15739805,  0.24721174,  0.16138791, -0.69517003],\n",
       "       [ 0.19004614,  0.14653752,  0.13478738,  0.22501634, -0.69638738],\n",
       "       [ 0.10092306,  0.16361642,  0.29770548,  0.09413159, -0.65637656],\n",
       "       [ 0.09371822,  0.02756   ,  0.07556733,  0.19453887, -0.39138442],\n",
       "       [ 0.11122848,  0.08099569,  0.06602907,  0.24408181, -0.50233505],\n",
       "       [ 0.22151606,  0.07070518, -0.61989829,  0.15868594,  0.1689911 ],\n",
       "       [ 0.10642068,  0.12024722, -0.45079241,  0.11283058,  0.11129393],\n",
       "       [ 0.08993535,  0.17059314, -0.65155685,  0.17658611,  0.21444225],\n",
       "       [ 0.04128719,  0.23497797, -0.42892194,  0.04132418,  0.1113326 ],\n",
       "       [ 0.18163212,  0.10380414, -0.65608482,  0.19604585,  0.17460272],\n",
       "       [ 0.21076918,  0.16550224,  0.12660212, -0.66285714,  0.15998359],\n",
       "       [ 0.17111865,  0.06252387,  0.04244808, -0.49889053,  0.22279993],\n",
       "       [ 0.26854645,  0.09615933,  0.17531459, -0.70134651,  0.16132614],\n",
       "       [ 0.06688206,  0.20878349,  0.16231256, -0.5804259 ,  0.14244779],\n",
       "       [ 0.15078894,  0.15875077,  0.19388464, -0.74041688,  0.23699253],\n",
       "       [-0.55107762,  0.27151024,  0.04476867,  0.15074896,  0.08404975],\n",
       "       [-0.53737778,  0.03597673,  0.10349711,  0.24217794,  0.155726  ],\n",
       "       [-0.39880166,  0.05066005,  0.14192439,  0.1090774 ,  0.09713982],\n",
       "       [-0.81136302,  0.1480695 ,  0.14888585,  0.22322955,  0.29117812],\n",
       "       [-0.44597646,  0.05995497,  0.21841291,  0.11014526,  0.05746331],\n",
       "       [ 0.06133481, -0.41144974,  0.18505122,  0.0730271 ,  0.09203663],\n",
       "       [ 0.09962859, -0.52692668,  0.05965113,  0.17049382,  0.19715314],\n",
       "       [ 0.26163314, -0.53333035,  0.13556504,  0.08997106,  0.04616111],\n",
       "       [ 0.01383281, -0.35727934,  0.10799196,  0.15681888,  0.0786357 ],\n",
       "       [ 0.13134273, -0.72170752,  0.18969575,  0.20199425,  0.19867479]])"
      ]
     },
     "execution_count": 92,
     "metadata": {},
     "output_type": "execute_result"
    }
   ],
   "source": [
    "p - I[y]"
   ]
  },
  {
   "cell_type": "code",
   "execution_count": 36,
   "metadata": {},
   "outputs": [
    {
     "data": {
      "text/plain": [
       "array([4, 4, 4, 4, 4, 2, 2, 2, 2, 2, 3, 3, 3, 3, 3, 0, 0, 0, 0, 0, 1, 1,\n",
       "       1, 1, 1])"
      ]
     },
     "execution_count": 36,
     "metadata": {},
     "output_type": "execute_result"
    }
   ],
   "source": [
    "y.cpu().numpy()"
   ]
  },
  {
   "cell_type": "code",
   "execution_count": 83,
   "metadata": {
    "collapsed": true,
    "jupyter": {
     "outputs_hidden": true
    }
   },
   "outputs": [
    {
     "data": {
      "text/plain": [
       "array([[ 1.03752656e-02],\n",
       "       [ 3.26025820e-03],\n",
       "       [-2.71994808e-02],\n",
       "       [ 2.78191296e-03],\n",
       "       [-5.31817412e-03],\n",
       "       [-1.66675723e-02],\n",
       "       [-4.17220927e-03],\n",
       "       [-5.98176953e-03],\n",
       "       [ 3.10775790e-02],\n",
       "       [-1.23596355e-02],\n",
       "       [ 6.00250025e-03],\n",
       "       [-1.48962297e-03],\n",
       "       [ 2.02389913e-02],\n",
       "       [ 2.76586834e-02],\n",
       "       [ 1.27212922e-02],\n",
       "       [-1.83438292e-02],\n",
       "       [ 1.47140926e-02],\n",
       "       [-1.69737805e-02],\n",
       "       [-2.13557193e-03],\n",
       "       [ 1.76827033e-02],\n",
       "       [ 2.85268824e-02],\n",
       "       [-1.02740732e-03],\n",
       "       [ 6.92209131e-05],\n",
       "       [ 3.75709287e-03],\n",
       "       [ 1.77701430e-02],\n",
       "       [-2.71230925e-02],\n",
       "       [-1.83094884e-02],\n",
       "       [-1.61149143e-02],\n",
       "       [ 9.32669737e-03],\n",
       "       [-2.08813414e-02],\n",
       "       [-2.18583890e-02],\n",
       "       [-1.25200810e-02],\n",
       "       [-1.71358201e-03],\n",
       "       [-1.25856153e-03],\n",
       "       [-9.68229863e-03],\n",
       "       [ 3.20163176e-02],\n",
       "       [-2.61493827e-03],\n",
       "       [ 2.08360717e-02],\n",
       "       [ 4.26057391e-03],\n",
       "       [ 6.44579752e-04],\n",
       "       [-6.30084843e-03],\n",
       "       [-2.80435788e-04],\n",
       "       [ 3.22612680e-02],\n",
       "       [-3.99608142e-03],\n",
       "       [ 2.00734207e-02],\n",
       "       [-2.53996417e-02],\n",
       "       [-2.74979500e-02],\n",
       "       [ 6.55192814e-04],\n",
       "       [ 1.39390088e-02],\n",
       "       [-1.22243558e-04],\n",
       "       [ 5.52070452e-04],\n",
       "       [ 2.55514951e-02],\n",
       "       [-1.06020936e-02],\n",
       "       [-9.11930099e-03],\n",
       "       [ 3.14955513e-02],\n",
       "       [-1.81260051e-02],\n",
       "       [ 1.71922975e-02],\n",
       "       [-1.56552986e-02],\n",
       "       [-1.03579449e-02],\n",
       "       [-2.94412700e-02],\n",
       "       [ 8.59462523e-03],\n",
       "       [-2.62011902e-02],\n",
       "       [ 1.48727082e-02],\n",
       "       [-1.92038900e-02],\n",
       "       [-2.90801313e-03],\n",
       "       [-6.54685818e-04],\n",
       "       [-8.57213769e-03],\n",
       "       [ 2.76421298e-02],\n",
       "       [-2.59728668e-03],\n",
       "       [-1.54134149e-02],\n",
       "       [ 6.48628033e-03],\n",
       "       [ 8.10781644e-03],\n",
       "       [ 5.53049634e-04],\n",
       "       [ 1.18586754e-02],\n",
       "       [-4.76648353e-02],\n",
       "       [-4.45387500e-03],\n",
       "       [-7.46100841e-03],\n",
       "       [ 2.79734947e-03],\n",
       "       [ 2.96952857e-03],\n",
       "       [ 1.72930854e-02],\n",
       "       [-1.30601402e-02],\n",
       "       [ 2.32702397e-02],\n",
       "       [-5.70408098e-03],\n",
       "       [ 5.65081103e-03],\n",
       "       [-2.69105700e-03],\n",
       "       [-2.81764021e-02],\n",
       "       [-1.15877614e-02],\n",
       "       [-6.21406523e-03],\n",
       "       [ 1.09404896e-02],\n",
       "       [-1.57982667e-02],\n",
       "       [ 9.95236995e-03],\n",
       "       [ 4.53781704e-03],\n",
       "       [ 2.15424147e-02],\n",
       "       [-1.93798246e-02],\n",
       "       [ 7.47519472e-03],\n",
       "       [ 1.75836677e-03],\n",
       "       [ 1.39934385e-02],\n",
       "       [-3.15791840e-02],\n",
       "       [ 2.00210877e-03],\n",
       "       [ 1.51417730e-02],\n",
       "       [-1.34671042e-02],\n",
       "       [ 8.28517575e-03],\n",
       "       [ 1.00969030e-02],\n",
       "       [-1.17469178e-02],\n",
       "       [ 2.13344054e-02],\n",
       "       [-1.25689045e-03],\n",
       "       [ 5.42098201e-03],\n",
       "       [ 4.31261213e-03],\n",
       "       [-7.91094658e-03],\n",
       "       [ 1.02109291e-02],\n",
       "       [-1.37983204e-02],\n",
       "       [ 7.50327895e-03],\n",
       "       [ 2.05482525e-03],\n",
       "       [-8.55761971e-04],\n",
       "       [-1.26732943e-02],\n",
       "       [ 2.10947846e-03],\n",
       "       [ 2.14046636e-05],\n",
       "       [ 6.73933056e-03],\n",
       "       [ 1.82145836e-02],\n",
       "       [ 2.13058594e-02],\n",
       "       [ 2.25224586e-04],\n",
       "       [ 1.59006196e-02],\n",
       "       [ 2.84778924e-02],\n",
       "       [-9.53879066e-03],\n",
       "       [ 8.36086024e-03],\n",
       "       [ 1.98611883e-02],\n",
       "       [ 9.30243683e-03],\n",
       "       [ 1.07264178e-02],\n",
       "       [ 2.79301819e-02],\n",
       "       [ 7.52360699e-03],\n",
       "       [ 2.85242281e-02],\n",
       "       [-2.06494152e-03],\n",
       "       [-1.56863393e-02],\n",
       "       [-7.75298523e-03],\n",
       "       [-1.05047259e-02],\n",
       "       [ 5.14953723e-03],\n",
       "       [-1.02572601e-02],\n",
       "       [-1.70352234e-02],\n",
       "       [ 4.23147033e-03],\n",
       "       [-4.99703944e-03],\n",
       "       [ 1.25550799e-02],\n",
       "       [-7.53681087e-03],\n",
       "       [-4.75633951e-03],\n",
       "       [-7.58282679e-03],\n",
       "       [-5.31215712e-03],\n",
       "       [-1.95086440e-02],\n",
       "       [ 5.39417076e-04],\n",
       "       [-6.19212507e-03],\n",
       "       [-1.09972466e-02],\n",
       "       [ 1.07494944e-02],\n",
       "       [-2.74641968e-02],\n",
       "       [ 2.88120877e-03],\n",
       "       [-2.91256794e-02],\n",
       "       [-2.44793033e-02],\n",
       "       [-8.78432510e-03],\n",
       "       [-3.36290160e-02],\n",
       "       [-2.52842373e-03],\n",
       "       [ 2.45823600e-02],\n",
       "       [ 6.34715544e-03],\n",
       "       [ 1.75976769e-02],\n",
       "       [-1.32711965e-03],\n",
       "       [-2.36799156e-02],\n",
       "       [ 1.95452335e-02],\n",
       "       [ 1.84830500e-02],\n",
       "       [ 2.43110058e-03]])"
      ]
     },
     "execution_count": 83,
     "metadata": {},
     "output_type": "execute_result"
    }
   ],
   "source": [
    "compute_grad(p, y, lr_features)"
   ]
  },
  {
   "cell_type": "code",
   "execution_count": 117,
   "metadata": {},
   "outputs": [],
   "source": [
    "I = np.eye(p.shape[1])"
   ]
  },
  {
   "cell_type": "code",
   "execution_count": 132,
   "metadata": {},
   "outputs": [
    {
     "data": {
      "text/plain": [
       "array([[0.],\n",
       "       [0.],\n",
       "       [1.],\n",
       "       [0.],\n",
       "       [0.]])"
      ]
     },
     "execution_count": 132,
     "metadata": {},
     "output_type": "execute_result"
    }
   ],
   "source": [
    "I[:, y[0].item(): y[0].item()+1]"
   ]
  },
  {
   "cell_type": "code",
   "execution_count": 126,
   "metadata": {},
   "outputs": [
    {
     "data": {
      "text/plain": [
       "tensor([[0.1065],\n",
       "        [0.1636],\n",
       "        [0.2897],\n",
       "        [0.2471],\n",
       "        [0.1931]], dtype=torch.float64)"
      ]
     },
     "execution_count": 126,
     "metadata": {},
     "output_type": "execute_result"
    }
   ],
   "source": [
    "p[0].reshape(-1, 1)"
   ]
  },
  {
   "cell_type": "code",
   "execution_count": 130,
   "metadata": {},
   "outputs": [
    {
     "data": {
      "text/plain": [
       "torch.Size([33])"
      ]
     },
     "execution_count": 130,
     "metadata": {},
     "output_type": "execute_result"
    }
   ],
   "source": [
    "lr_features[0].shape"
   ]
  },
  {
   "cell_type": "code",
   "execution_count": 109,
   "metadata": {},
   "outputs": [
    {
     "data": {
      "text/plain": [
       "array([[1],\n",
       "       [0],\n",
       "       [0],\n",
       "       [0]])"
      ]
     },
     "execution_count": 109,
     "metadata": {},
     "output_type": "execute_result"
    }
   ],
   "source": [
    "a = np.array([[1],\n",
    "              [0]])\n",
    "b = np.array([[1],\n",
    "              [0]])\n",
    "np.kron(a, b)"
   ]
  },
  {
   "cell_type": "code",
   "execution_count": 67,
   "metadata": {},
   "outputs": [
    {
     "ename": "TypeError",
     "evalue": "compute_hessian() takes 3 positional arguments but 4 were given",
     "output_type": "error",
     "traceback": [
      "\u001b[0;31m---------------------------------------------------------------------------\u001b[0m",
      "\u001b[0;31mTypeError\u001b[0m                                 Traceback (most recent call last)",
      "\u001b[0;32m<ipython-input-67-ba80a7c3b659>\u001b[0m in \u001b[0;36m<module>\u001b[0;34m\u001b[0m\n\u001b[0;32m----> 1\u001b[0;31m \u001b[0mprint\u001b[0m\u001b[0;34m(\u001b[0m\u001b[0mcompute_hessian\u001b[0m\u001b[0;34m(\u001b[0m\u001b[0mtrain_task\u001b[0m\u001b[0;34m,\u001b[0m \u001b[0mmodel\u001b[0m\u001b[0;34m,\u001b[0m \u001b[0mmodulation\u001b[0m\u001b[0;34m,\u001b[0m \u001b[0madapted_params\u001b[0m\u001b[0;34m)\u001b[0m\u001b[0;34m)\u001b[0m\u001b[0;34m\u001b[0m\u001b[0;34m\u001b[0m\u001b[0m\n\u001b[0m",
      "\u001b[0;31mTypeError\u001b[0m: compute_hessian() takes 3 positional arguments but 4 were given"
     ]
    }
   ],
   "source": [
    "print(compute_hessian(train_task, model, modulation, adapted_params))"
   ]
  },
  {
   "cell_type": "code",
   "execution_count": 90,
   "metadata": {},
   "outputs": [
    {
     "data": {
      "text/plain": [
       "25"
      ]
     },
     "execution_count": 90,
     "metadata": {},
     "output_type": "execute_result"
    }
   ],
   "source": [
    "p = softmax(preds, axis=1)\n",
    "preds.shape[0]"
   ]
  },
  {
   "cell_type": "code",
   "execution_count": 92,
   "metadata": {},
   "outputs": [
    {
     "data": {
      "text/plain": [
       "array([[1, 1, 0, 0],\n",
       "       [0, 1, 0, 0],\n",
       "       [0, 0, 1, 1],\n",
       "       [0, 0, 0, 1]])"
      ]
     },
     "execution_count": 92,
     "metadata": {},
     "output_type": "execute_result"
    }
   ],
   "source": [
    "a = np.array([[1,0],\n",
    "              [0,1]])\n",
    "b = np.array([[1,1],\n",
    "              [0,1]])\n",
    "np.kron(a, b)"
   ]
  },
  {
   "cell_type": "code",
   "execution_count": 43,
   "metadata": {},
   "outputs": [],
   "source": [
    "def logistic_regression_hessian2_with_respect_to_w(X, y, w):\n",
    "    '''\n",
    "    X, y, w numpy arrays\n",
    "       shape\n",
    "    X  N, (d+1) last dimension the bias\n",
    "    y  N integer class identity\n",
    "    w  C, (d+1) number of classes C\n",
    "    \n",
    "    return hessian matrix C*(d+1), C*(d+1)\n",
    "    '''\n",
    "    preds = np.matmul(X, w.T)\n",
    "    p = softmax(preds, axis=1) # the probability matrix N, C\n",
    "\n",
    "    C = w.shape[0]\n",
    "    N = X.shape[0]\n",
    "    d = X.shape[1] - 1\n",
    "    \n",
    "    Xbar = np.zeros(shape=(N * (C+1), C * (d+1)))\n",
    "    diag = []\n",
    "    \n",
    "    for i in range(N):\n",
    "        for j in range(C):\n",
    "            Xbar[i * C + j, j * (d+1): (j+1) * (d+1)] = X[i]        \n",
    "        diag.extend(p[i])\n",
    "    for i in range(N):\n",
    "        Xbar[N * C + i, :] = np.kron(p[i], X[i])\n",
    "        diag.append(-1)\n",
    "\n",
    "    \n",
    "    result = np.matmul(np.matmul(Xbar.T, np.diag(diag)), Xbar)\n",
    "    result /= N\n",
    "\n",
    "    return result"
   ]
  },
  {
   "cell_type": "code",
   "execution_count": 47,
   "metadata": {},
   "outputs": [],
   "source": [
    "A = logistic_regression_hessian2_with_respect_to_w(X_train, y_train, w)"
   ]
  },
  {
   "cell_type": "code",
   "execution_count": 48,
   "metadata": {},
   "outputs": [],
   "source": [
    "B = logistic_regression_hessian_with_respect_to_w(X_train, y_train, w)"
   ]
  },
  {
   "cell_type": "code",
   "execution_count": 49,
   "metadata": {},
   "outputs": [
    {
     "data": {
      "text/plain": [
       "True"
      ]
     },
     "execution_count": 49,
     "metadata": {},
     "output_type": "execute_result"
    }
   ],
   "source": [
    "np.allclose(A, B)"
   ]
  },
  {
   "cell_type": "code",
   "execution_count": 33,
   "metadata": {},
   "outputs": [],
   "source": [
    "X = X_train"
   ]
  },
  {
   "cell_type": "code",
   "execution_count": 34,
   "metadata": {},
   "outputs": [],
   "source": [
    "y = y_train"
   ]
  },
  {
   "cell_type": "code",
   "execution_count": 40,
   "metadata": {},
   "outputs": [],
   "source": [
    "preds = np.matmul(X, w.T)\n",
    "p = softmax(preds, axis=1)"
   ]
  },
  {
   "cell_type": "code",
   "execution_count": 42,
   "metadata": {},
   "outputs": [
    {
     "data": {
      "text/plain": [
       "array([-0.38918793,  1.7624263 ,  1.1465982 ,  1.7255745 ,  0.70516425,\n",
       "        2.011344  , -0.90128756, -1.4994539 ,  0.50038975,  2.252832  ,\n",
       "       -0.13191003, -1.1027367 ,  0.01333237,  0.84084433,  0.27218148,\n",
       "       -0.5713475 , -2.1324117 ,  0.5417987 , -1.0578914 , -0.7511769 ,\n",
       "        1.851747  ,  0.80861795, -0.16225591,  0.8148676 ,  2.6477244 ,\n",
       "       -0.25002277, -1.2813526 ,  0.20728773,  0.4474508 , -3.0171328 ,\n",
       "       -1.310616  , -0.03914583,  1.        ], dtype=float32)"
      ]
     },
     "execution_count": 42,
     "metadata": {},
     "output_type": "execute_result"
    }
   ],
   "source": [
    "X[0]"
   ]
  },
  {
   "cell_type": "code",
   "execution_count": 41,
   "metadata": {},
   "outputs": [
    {
     "data": {
      "text/plain": [
       "array([-6.37947721e-03,  2.88892779e-02,  1.87947694e-02,  2.82852128e-02,\n",
       "        1.15588866e-02,  3.29694785e-02, -1.47736939e-02, -2.45786961e-02,\n",
       "        8.20227154e-03,  3.69278938e-02, -2.16223812e-03, -1.80758014e-02,\n",
       "        2.18541027e-04,  1.37829231e-02,  4.46153479e-03, -9.36539378e-03,\n",
       "       -3.49539928e-02,  8.88103712e-03, -1.73407067e-02, -1.23131154e-02,\n",
       "        3.03534027e-02,  1.32546760e-02, -2.65966076e-03,  1.33571187e-02,\n",
       "        4.34008762e-02, -4.09831433e-03, -2.10036319e-02,  3.39781190e-03,\n",
       "        7.33450847e-03, -4.94561307e-02, -2.14833096e-02, -6.41669205e-04,\n",
       "        1.63917653e-02, -2.80059259e-02,  1.26824021e-01,  8.25091004e-02,\n",
       "        1.24172181e-01,  5.07435538e-02,  1.44736126e-01, -6.48565665e-02,\n",
       "       -1.07900560e-01,  3.60080004e-02,  1.62113577e-01, -9.49223340e-03,\n",
       "       -7.93528259e-02,  9.59395838e-04,  6.05070777e-02,  1.95861533e-02,\n",
       "       -4.11141105e-02, -1.53448150e-01,  3.89877856e-02, -7.61257634e-02,\n",
       "       -5.40546179e-02,  1.33251548e-01,  5.81880696e-02, -1.16759203e-02,\n",
       "        5.86377978e-02,  1.90530002e-01, -1.79916155e-02, -9.22060162e-02,\n",
       "        1.49164051e-02,  3.21985148e-02, -2.17112586e-01, -9.43118036e-02,\n",
       "       -2.81692995e-03,  7.19599053e-02, -6.95104450e-02,  3.14776063e-01,\n",
       "        2.04786807e-01,  3.08194190e-01,  1.25945032e-01,  3.59233707e-01,\n",
       "       -1.60973400e-01, -2.67808199e-01,  8.93715173e-02,  4.02364373e-01,\n",
       "       -2.35596336e-02, -1.96952984e-01,  2.38121161e-03,  1.50178000e-01,\n",
       "        4.86126505e-02, -1.02044836e-01, -3.80856872e-01,  9.67673138e-02,\n",
       "       -1.88943431e-01, -1.34163052e-01,  3.30729067e-01,  1.44422248e-01,\n",
       "       -2.89795250e-02,  1.45538464e-01,  4.72893685e-01, -4.46550213e-02,\n",
       "       -2.28854463e-01,  3.70223783e-02,  7.99164176e-02, -5.38871408e-01,\n",
       "       -2.34081015e-01, -6.99159410e-03,  1.78603813e-01, -2.28828918e-02,\n",
       "        1.03624515e-01,  6.74159750e-02,  1.01457760e-01,  4.14611958e-02,\n",
       "        1.18260004e-01, -5.29925637e-02, -8.81626531e-02,  2.94211712e-02,\n",
       "        1.32458657e-01, -7.75584904e-03, -6.48370683e-02,  7.83896656e-04,\n",
       "        4.94387113e-02,  1.60033219e-02, -3.35932374e-02, -1.25378370e-01,\n",
       "        3.18558738e-02, -6.22003190e-02, -4.41665798e-02,  1.08876266e-01,\n",
       "        4.75439131e-02, -9.54008102e-03,  4.79113720e-02,  1.55676961e-01,\n",
       "       -1.47004658e-02, -7.53390640e-02,  1.21877948e-02,  2.63085440e-02,\n",
       "       -1.77396879e-01, -7.70596489e-02, -2.30163801e-03,  5.87965101e-02,\n",
       "       -2.62409180e-01,  1.18831229e+00,  7.73091555e-01,  1.16346514e+00,\n",
       "        4.75455582e-01,  1.35614455e+00, -6.07691288e-01, -1.01100373e+00,\n",
       "        3.37386787e-01,  1.51896739e+00, -8.89400691e-02, -7.43517995e-01,\n",
       "        8.98932107e-03,  5.66937566e-01,  1.83517814e-01, -3.85229886e-01,\n",
       "       -1.43777430e+00,  3.65306675e-01, -7.13281095e-01, -5.06479502e-01,\n",
       "        1.24853671e+00,  5.45208991e-01, -1.09400719e-01,  5.49422860e-01,\n",
       "        1.78522277e+00, -1.68577343e-01, -8.63949418e-01,  1.39763325e-01,\n",
       "        3.01692784e-01, -2.03429556e+00, -8.83680224e-01, -2.63939947e-02,\n",
       "        6.74247980e-01], dtype=float32)"
      ]
     },
     "execution_count": 41,
     "metadata": {},
     "output_type": "execute_result"
    }
   ],
   "source": [
    "np.kron(p[0], X[0])"
   ]
  },
  {
   "cell_type": "code",
   "execution_count": null,
   "metadata": {},
   "outputs": [],
   "source": []
  }
 ],
 "metadata": {
  "kernelspec": {
   "display_name": "Python 3.7.6 64-bit ('py37': conda)",
   "language": "python",
   "name": "python37664bitpy37condadb70aabb01fa463792e58b65dd1b6927"
  },
  "language_info": {
   "codemirror_mode": {
    "name": "ipython",
    "version": 3
   },
   "file_extension": ".py",
   "mimetype": "text/x-python",
   "name": "python",
   "nbconvert_exporter": "python",
   "pygments_lexer": "ipython3",
   "version": "3.7.6"
  }
 },
 "nbformat": 4,
 "nbformat_minor": 4
}
